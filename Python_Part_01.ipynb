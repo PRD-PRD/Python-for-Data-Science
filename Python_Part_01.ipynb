{
  "nbformat": 4,
  "nbformat_minor": 0,
  "metadata": {
    "colab": {
      "provenance": []
    },
    "kernelspec": {
      "name": "python3",
      "display_name": "Python 3"
    },
    "language_info": {
      "name": "python"
    }
  },
  "cells": [
    {
      "cell_type": "markdown",
      "source": [
        "**Programming Languages used for Machine Learning:**\n",
        "- Python\n",
        "- R"
      ],
      "metadata": {
        "id": "J6J87b7xZ9B1"
      }
    },
    {
      "cell_type": "markdown",
      "source": [
        "**Print Function**"
      ],
      "metadata": {
        "id": "mNOI0ufbaIfJ"
      }
    },
    {
      "cell_type": "code",
      "execution_count": 1,
      "metadata": {
        "colab": {
          "base_uri": "https://localhost:8080/"
        },
        "id": "8elxSkj-ZYKP",
        "outputId": "e991bd2b-4f94-4a88-a58a-58790d738ee6"
      },
      "outputs": [
        {
          "output_type": "stream",
          "name": "stdout",
          "text": [
            "Machine Learning\n"
          ]
        }
      ],
      "source": [
        "## How we use print function\n",
        "print(\"Machine Learning\")"
      ]
    },
    {
      "cell_type": "code",
      "source": [
        "print(\"Machine Learning \"+\"Course\")"
      ],
      "metadata": {
        "colab": {
          "base_uri": "https://localhost:8080/"
        },
        "id": "mQXW3nyBacLB",
        "outputId": "e15a5ade-6843-438f-830c-94281ca4e7ef"
      },
      "execution_count": 3,
      "outputs": [
        {
          "output_type": "stream",
          "name": "stdout",
          "text": [
            "Machine Learning Course\n"
          ]
        }
      ]
    },
    {
      "cell_type": "code",
      "source": [
        "print(10)"
      ],
      "metadata": {
        "colab": {
          "base_uri": "https://localhost:8080/"
        },
        "id": "zsN_Rk6ya291",
        "outputId": "fa683171-79be-4727-c8e1-3aa303c0c441"
      },
      "execution_count": 4,
      "outputs": [
        {
          "output_type": "stream",
          "name": "stdout",
          "text": [
            "10\n"
          ]
        }
      ]
    },
    {
      "cell_type": "code",
      "source": [
        "print(10+20)"
      ],
      "metadata": {
        "colab": {
          "base_uri": "https://localhost:8080/"
        },
        "id": "735zcYlJbBGB",
        "outputId": "a2c77d93-0931-40b9-96d7-a688abae27ff"
      },
      "execution_count": 5,
      "outputs": [
        {
          "output_type": "stream",
          "name": "stdout",
          "text": [
            "30\n"
          ]
        }
      ]
    },
    {
      "cell_type": "markdown",
      "source": [
        "**Basic Data Types**\n",
        "- int\n",
        "- float\n",
        "- str"
      ],
      "metadata": {
        "id": "5f2k5iuLbD-d"
      }
    },
    {
      "cell_type": "code",
      "source": [
        "type(10)"
      ],
      "metadata": {
        "colab": {
          "base_uri": "https://localhost:8080/"
        },
        "id": "7DEKgKWrbCl8",
        "outputId": "3046978c-a0cc-4188-8a79-7fbf7680dee5"
      },
      "execution_count": 6,
      "outputs": [
        {
          "output_type": "execute_result",
          "data": {
            "text/plain": [
              "int"
            ]
          },
          "metadata": {},
          "execution_count": 6
        }
      ]
    },
    {
      "cell_type": "code",
      "source": [
        "type(5.5)"
      ],
      "metadata": {
        "colab": {
          "base_uri": "https://localhost:8080/"
        },
        "id": "WWkdHgSrbNCC",
        "outputId": "271c5636-71cd-4506-c0c8-a9359d61c9c3"
      },
      "execution_count": 7,
      "outputs": [
        {
          "output_type": "execute_result",
          "data": {
            "text/plain": [
              "float"
            ]
          },
          "metadata": {},
          "execution_count": 7
        }
      ]
    },
    {
      "cell_type": "code",
      "source": [
        "type(\"Raju\")"
      ],
      "metadata": {
        "colab": {
          "base_uri": "https://localhost:8080/"
        },
        "id": "ZAODxdetbPAe",
        "outputId": "4b7444e7-5f7d-431c-deb9-91c69f4a3ff5"
      },
      "execution_count": 8,
      "outputs": [
        {
          "output_type": "execute_result",
          "data": {
            "text/plain": [
              "str"
            ]
          },
          "metadata": {},
          "execution_count": 8
        }
      ]
    },
    {
      "cell_type": "markdown",
      "source": [
        "**Constant & Variables**"
      ],
      "metadata": {
        "id": "9ltzJGPRbSsq"
      }
    },
    {
      "cell_type": "code",
      "source": [
        "Hero=\"RAJU\"\n",
        "print(Hero)"
      ],
      "metadata": {
        "colab": {
          "base_uri": "https://localhost:8080/"
        },
        "id": "bvJFAkHEbQyW",
        "outputId": "aee76ddd-ac93-4732-a735-b3b2d277f3b4"
      },
      "execution_count": 9,
      "outputs": [
        {
          "output_type": "stream",
          "name": "stdout",
          "text": [
            "RAJU\n"
          ]
        }
      ]
    },
    {
      "cell_type": "code",
      "source": [
        "r_hero=\"Hero Raju\"\n",
        "print(r_hero)"
      ],
      "metadata": {
        "colab": {
          "base_uri": "https://localhost:8080/"
        },
        "id": "8lM0LY4Ybml8",
        "outputId": "bcff445d-6e5e-445b-a64b-3b44cbf707cc"
      },
      "execution_count": 10,
      "outputs": [
        {
          "output_type": "stream",
          "name": "stdout",
          "text": [
            "Hero Raju\n"
          ]
        }
      ]
    },
    {
      "cell_type": "code",
      "source": [
        "hero1,hero2,hero3='Raju','Ram','Rani'\n",
        "print(hero1)\n",
        "print(hero2)\n",
        "print(hero3)"
      ],
      "metadata": {
        "colab": {
          "base_uri": "https://localhost:8080/"
        },
        "id": "Ukd9tgCsbwas",
        "outputId": "6cc47146-2a3a-4dab-c8e6-c0478e84a27f"
      },
      "execution_count": 11,
      "outputs": [
        {
          "output_type": "stream",
          "name": "stdout",
          "text": [
            "Raju\n",
            "Ram\n",
            "Rani\n"
          ]
        }
      ]
    },
    {
      "cell_type": "code",
      "source": [
        "x = y = z = 25\n",
        "print(x)\n",
        "print(y)\n",
        "print(z)"
      ],
      "metadata": {
        "colab": {
          "base_uri": "https://localhost:8080/"
        },
        "id": "VY-senjKb6U3",
        "outputId": "73212e06-7731-4bb3-bcb1-cd601f744e68"
      },
      "execution_count": 12,
      "outputs": [
        {
          "output_type": "stream",
          "name": "stdout",
          "text": [
            "25\n",
            "25\n",
            "25\n"
          ]
        }
      ]
    },
    {
      "cell_type": "markdown",
      "source": [
        "**input funtion in python**"
      ],
      "metadata": {
        "id": "WUp-T7IEcXDG"
      }
    },
    {
      "cell_type": "code",
      "source": [
        "## Input function assumes it like a string\n",
        "n1=input(\"Enter the number: \")\n",
        "n2=input(\"Enter the number: \")\n",
        "sum=n1+n2\n",
        "print(sum)"
      ],
      "metadata": {
        "colab": {
          "base_uri": "https://localhost:8080/"
        },
        "id": "WrHJ4bjqcIfw",
        "outputId": "9fbb3e33-e1b2-4194-8d27-f56ea9e849f6"
      },
      "execution_count": 15,
      "outputs": [
        {
          "output_type": "stream",
          "name": "stdout",
          "text": [
            "Enter the number: 11\n",
            "Enter the number: 22\n",
            "1122\n"
          ]
        }
      ]
    },
    {
      "cell_type": "code",
      "source": [
        "## If we give an any data type then it takes the integer\n",
        "n1=int(input(\"Enter the number: \"))\n",
        "n2=int(input(\"Enter the number: \"))\n",
        "sum=n1+n2\n",
        "print(sum)"
      ],
      "metadata": {
        "colab": {
          "base_uri": "https://localhost:8080/"
        },
        "id": "eL7AOnwwcy-r",
        "outputId": "a1a0e881-adbd-4347-b4a6-576f190a661f"
      },
      "execution_count": 16,
      "outputs": [
        {
          "output_type": "stream",
          "name": "stdout",
          "text": [
            "Enter the number: 11\n",
            "Enter the number: 22\n",
            "33\n"
          ]
        }
      ]
    },
    {
      "cell_type": "markdown",
      "source": [
        "**Basic Data Types in Python**\n",
        "- integer\n",
        "- floating point\n",
        "- complex\n",
        "- boolean\n",
        "- string"
      ],
      "metadata": {
        "id": "Qe3rhKhSeCGz"
      }
    },
    {
      "cell_type": "code",
      "source": [
        "## Integers\n",
        "a=9\n",
        "print(a)\n",
        "type(a)"
      ],
      "metadata": {
        "colab": {
          "base_uri": "https://localhost:8080/"
        },
        "id": "VpGFz2X3dL5K",
        "outputId": "759599ae-850d-4f2c-a6d9-db74843eb9f8"
      },
      "execution_count": 19,
      "outputs": [
        {
          "output_type": "stream",
          "name": "stdout",
          "text": [
            "9\n"
          ]
        },
        {
          "output_type": "execute_result",
          "data": {
            "text/plain": [
              "int"
            ]
          },
          "metadata": {},
          "execution_count": 19
        }
      ]
    },
    {
      "cell_type": "code",
      "source": [
        "## floating point\n",
        "b=5.6\n",
        "print(b)\n",
        "type(b)"
      ],
      "metadata": {
        "colab": {
          "base_uri": "https://localhost:8080/"
        },
        "id": "-CXeSZBXeUqU",
        "outputId": "0560db87-efcc-4081-a55e-21dc8e6b73e5"
      },
      "execution_count": 20,
      "outputs": [
        {
          "output_type": "stream",
          "name": "stdout",
          "text": [
            "5.6\n"
          ]
        },
        {
          "output_type": "execute_result",
          "data": {
            "text/plain": [
              "float"
            ]
          },
          "metadata": {},
          "execution_count": 20
        }
      ]
    },
    {
      "cell_type": "code",
      "source": [
        "## Complex\n",
        "c=2+3j\n",
        "print(c)\n",
        "type(c)"
      ],
      "metadata": {
        "colab": {
          "base_uri": "https://localhost:8080/"
        },
        "id": "Crv8klQYefjY",
        "outputId": "7ea08e2d-bf95-416c-f24c-e2a5e4a24014"
      },
      "execution_count": 21,
      "outputs": [
        {
          "output_type": "stream",
          "name": "stdout",
          "text": [
            "(2+3j)\n"
          ]
        },
        {
          "output_type": "execute_result",
          "data": {
            "text/plain": [
              "complex"
            ]
          },
          "metadata": {},
          "execution_count": 21
        }
      ]
    },
    {
      "cell_type": "markdown",
      "source": [
        "**Conversion of one data type to another data type**"
      ],
      "metadata": {
        "id": "IxWprJbNe0jv"
      }
    },
    {
      "cell_type": "code",
      "source": [
        "## int to float\n",
        "x=5\n",
        "print(x)\n",
        "type(5)"
      ],
      "metadata": {
        "colab": {
          "base_uri": "https://localhost:8080/"
        },
        "id": "mcAEjSwpewbe",
        "outputId": "6138ed99-77d0-425c-df74-753c4960c0c0"
      },
      "execution_count": 22,
      "outputs": [
        {
          "output_type": "stream",
          "name": "stdout",
          "text": [
            "5\n"
          ]
        },
        {
          "output_type": "execute_result",
          "data": {
            "text/plain": [
              "int"
            ]
          },
          "metadata": {},
          "execution_count": 22
        }
      ]
    },
    {
      "cell_type": "code",
      "source": [
        "y=float(x)\n",
        "print(y)\n",
        "type(y)"
      ],
      "metadata": {
        "colab": {
          "base_uri": "https://localhost:8080/"
        },
        "id": "41CMtzsDfNI1",
        "outputId": "495d77e9-3d44-4abd-b0b5-2319a0142cab"
      },
      "execution_count": 24,
      "outputs": [
        {
          "output_type": "stream",
          "name": "stdout",
          "text": [
            "5.0\n"
          ]
        },
        {
          "output_type": "execute_result",
          "data": {
            "text/plain": [
              "float"
            ]
          },
          "metadata": {},
          "execution_count": 24
        }
      ]
    },
    {
      "cell_type": "code",
      "source": [
        "## float to int\n",
        "x=5.58\n",
        "print(x)\n",
        "type(x)"
      ],
      "metadata": {
        "colab": {
          "base_uri": "https://localhost:8080/"
        },
        "id": "y4lWcY8_fdLo",
        "outputId": "cd66e110-4c75-4021-efac-d873bc1c9c07"
      },
      "execution_count": 25,
      "outputs": [
        {
          "output_type": "stream",
          "name": "stdout",
          "text": [
            "5.58\n"
          ]
        },
        {
          "output_type": "execute_result",
          "data": {
            "text/plain": [
              "float"
            ]
          },
          "metadata": {},
          "execution_count": 25
        }
      ]
    },
    {
      "cell_type": "code",
      "source": [
        "y=int(x)\n",
        "print(y)\n",
        "type(y)"
      ],
      "metadata": {
        "colab": {
          "base_uri": "https://localhost:8080/"
        },
        "id": "ey1dq73PfnRs",
        "outputId": "977926a5-74af-4caf-f23a-7fbd5e7a52fe"
      },
      "execution_count": 26,
      "outputs": [
        {
          "output_type": "stream",
          "name": "stdout",
          "text": [
            "5\n"
          ]
        },
        {
          "output_type": "execute_result",
          "data": {
            "text/plain": [
              "int"
            ]
          },
          "metadata": {},
          "execution_count": 26
        }
      ]
    },
    {
      "cell_type": "markdown",
      "source": [
        "**Boolean**\n",
        "- True\n",
        "- False"
      ],
      "metadata": {
        "id": "pKhi_HuTf7sJ"
      }
    },
    {
      "cell_type": "code",
      "source": [
        "a=True\n",
        "print(a)\n",
        "type(a)"
      ],
      "metadata": {
        "colab": {
          "base_uri": "https://localhost:8080/"
        },
        "id": "5xlKLYDZfx18",
        "outputId": "9f5bc8fb-6af0-4823-d06c-ab106f54a7ad"
      },
      "execution_count": 27,
      "outputs": [
        {
          "output_type": "stream",
          "name": "stdout",
          "text": [
            "True\n"
          ]
        },
        {
          "output_type": "execute_result",
          "data": {
            "text/plain": [
              "bool"
            ]
          },
          "metadata": {},
          "execution_count": 27
        }
      ]
    },
    {
      "cell_type": "code",
      "source": [
        "b=False\n",
        "print(b)\n",
        "type(b)"
      ],
      "metadata": {
        "colab": {
          "base_uri": "https://localhost:8080/"
        },
        "id": "3mQJf8_5gJgv",
        "outputId": "e75c67ec-4d5d-4cd6-d4f1-8c98edc98f3c"
      },
      "execution_count": 29,
      "outputs": [
        {
          "output_type": "stream",
          "name": "stdout",
          "text": [
            "False\n"
          ]
        },
        {
          "output_type": "execute_result",
          "data": {
            "text/plain": [
              "bool"
            ]
          },
          "metadata": {},
          "execution_count": 29
        }
      ]
    },
    {
      "cell_type": "code",
      "source": [
        "a=7<3\n",
        "print(a)\n",
        "type(a)"
      ],
      "metadata": {
        "colab": {
          "base_uri": "https://localhost:8080/"
        },
        "id": "xoHzNkPMgMJJ",
        "outputId": "50253f0f-48cd-4166-bd13-a6eef79f2255"
      },
      "execution_count": 30,
      "outputs": [
        {
          "output_type": "stream",
          "name": "stdout",
          "text": [
            "False\n"
          ]
        },
        {
          "output_type": "execute_result",
          "data": {
            "text/plain": [
              "bool"
            ]
          },
          "metadata": {},
          "execution_count": 30
        }
      ]
    },
    {
      "cell_type": "code",
      "source": [
        "b=7>3\n",
        "print(b)\n",
        "type(b)"
      ],
      "metadata": {
        "colab": {
          "base_uri": "https://localhost:8080/"
        },
        "id": "QctLxZkZgXZ2",
        "outputId": "795887b6-b77f-4440-f23e-aa7597bd26f3"
      },
      "execution_count": 31,
      "outputs": [
        {
          "output_type": "stream",
          "name": "stdout",
          "text": [
            "True\n"
          ]
        },
        {
          "output_type": "execute_result",
          "data": {
            "text/plain": [
              "bool"
            ]
          },
          "metadata": {},
          "execution_count": 31
        }
      ]
    },
    {
      "cell_type": "markdown",
      "source": [
        "**String**"
      ],
      "metadata": {
        "id": "3HeiO0jOgl3x"
      }
    },
    {
      "cell_type": "code",
      "source": [
        "## String is nothing but collection of characters\n",
        "print(\"Machine Learning\")"
      ],
      "metadata": {
        "colab": {
          "base_uri": "https://localhost:8080/"
        },
        "id": "uJy9DNsZgb78",
        "outputId": "8a330d01-666b-461c-8dc0-5e69a1e12b83"
      },
      "execution_count": 32,
      "outputs": [
        {
          "output_type": "stream",
          "name": "stdout",
          "text": [
            "Machine Learning\n"
          ]
        }
      ]
    },
    {
      "cell_type": "code",
      "source": [
        "print('Machine Learning')"
      ],
      "metadata": {
        "colab": {
          "base_uri": "https://localhost:8080/"
        },
        "id": "W_XehTkSgvfq",
        "outputId": "6ce6dbf8-9868-485f-e5a6-4967b95c45c7"
      },
      "execution_count": 33,
      "outputs": [
        {
          "output_type": "stream",
          "name": "stdout",
          "text": [
            "Machine Learning\n"
          ]
        }
      ]
    },
    {
      "cell_type": "code",
      "source": [
        "my_string='Machine Learning'\n",
        "print(my_string)\n",
        "type(my_string)"
      ],
      "metadata": {
        "colab": {
          "base_uri": "https://localhost:8080/"
        },
        "id": "oqJOKJnXg0xe",
        "outputId": "1e5caad4-fb83-4c82-d44a-a0cd0c9c1cf3"
      },
      "execution_count": 34,
      "outputs": [
        {
          "output_type": "stream",
          "name": "stdout",
          "text": [
            "Machine Learning\n"
          ]
        },
        {
          "output_type": "execute_result",
          "data": {
            "text/plain": [
              "str"
            ]
          },
          "metadata": {},
          "execution_count": 34
        }
      ]
    },
    {
      "cell_type": "code",
      "source": [
        "print(\"Hi\"*5)"
      ],
      "metadata": {
        "colab": {
          "base_uri": "https://localhost:8080/"
        },
        "id": "7HRWwUG5hA7s",
        "outputId": "35fdb8d7-cca2-46fe-986f-af64222f5ba8"
      },
      "execution_count": 35,
      "outputs": [
        {
          "output_type": "stream",
          "name": "stdout",
          "text": [
            "HiHiHiHiHi\n"
          ]
        }
      ]
    },
    {
      "cell_type": "code",
      "source": [
        "print(5*5)"
      ],
      "metadata": {
        "colab": {
          "base_uri": "https://localhost:8080/"
        },
        "id": "wapNPHf8hEWL",
        "outputId": "aba8c750-f82c-4757-f002-3b109ec6a37c"
      },
      "execution_count": 36,
      "outputs": [
        {
          "output_type": "stream",
          "name": "stdout",
          "text": [
            "25\n"
          ]
        }
      ]
    },
    {
      "cell_type": "markdown",
      "source": [
        "**Slicing**\n",
        "- [start:end:step]"
      ],
      "metadata": {
        "id": "1xuhYEDShSJ_"
      }
    },
    {
      "cell_type": "code",
      "source": [
        "Language=\"Programming\"\n",
        "print(Language)"
      ],
      "metadata": {
        "colab": {
          "base_uri": "https://localhost:8080/"
        },
        "id": "TTxdjPNDhP8w",
        "outputId": "05f93c38-607c-4e95-c9e5-37e41e49918c"
      },
      "execution_count": 37,
      "outputs": [
        {
          "output_type": "stream",
          "name": "stdout",
          "text": [
            "Programming\n"
          ]
        }
      ]
    },
    {
      "cell_type": "code",
      "source": [
        "## print values from index 1 to 5-1 wil be sliced\n",
        "print(Language[1:5])"
      ],
      "metadata": {
        "colab": {
          "base_uri": "https://localhost:8080/"
        },
        "id": "hHkBe49-hrnR",
        "outputId": "aa7279ea-1726-496a-d5d2-e2d5e8e52e0e"
      },
      "execution_count": 38,
      "outputs": [
        {
          "output_type": "stream",
          "name": "stdout",
          "text": [
            "rogr\n"
          ]
        }
      ]
    },
    {
      "cell_type": "code",
      "source": [
        "Language[:6]"
      ],
      "metadata": {
        "colab": {
          "base_uri": "https://localhost:8080/",
          "height": 35
        },
        "id": "wSaV8l56h5BT",
        "outputId": "f663e33c-a620-4429-e1cb-57eaf739143b"
      },
      "execution_count": 39,
      "outputs": [
        {
          "output_type": "execute_result",
          "data": {
            "text/plain": [
              "'Progra'"
            ],
            "application/vnd.google.colaboratory.intrinsic+json": {
              "type": "string"
            }
          },
          "metadata": {},
          "execution_count": 39
        }
      ]
    },
    {
      "cell_type": "code",
      "source": [
        "Language[:7]"
      ],
      "metadata": {
        "colab": {
          "base_uri": "https://localhost:8080/",
          "height": 35
        },
        "id": "fY3sSIJQiRXW",
        "outputId": "a1475c57-f51e-4353-c187-c8d3fbaf3056"
      },
      "execution_count": 40,
      "outputs": [
        {
          "output_type": "execute_result",
          "data": {
            "text/plain": [
              "'Program'"
            ],
            "application/vnd.google.colaboratory.intrinsic+json": {
              "type": "string"
            }
          },
          "metadata": {},
          "execution_count": 40
        }
      ]
    },
    {
      "cell_type": "code",
      "source": [
        "#using step\n",
        "print(Language[1:10:1])"
      ],
      "metadata": {
        "colab": {
          "base_uri": "https://localhost:8080/"
        },
        "id": "gbc5Vbzmiaio",
        "outputId": "3161beb5-6429-4c19-9b56-692e05f81bea"
      },
      "execution_count": 41,
      "outputs": [
        {
          "output_type": "stream",
          "name": "stdout",
          "text": [
            "rogrammin\n"
          ]
        }
      ]
    },
    {
      "cell_type": "code",
      "source": [
        "#using step\n",
        "print(Language[0:10:1])"
      ],
      "metadata": {
        "colab": {
          "base_uri": "https://localhost:8080/"
        },
        "id": "8T63NxE2kadO",
        "outputId": "0e034a48-1302-4cc6-bbee-f7935ec7ee7b"
      },
      "execution_count": 42,
      "outputs": [
        {
          "output_type": "stream",
          "name": "stdout",
          "text": [
            "Programmin\n"
          ]
        }
      ]
    },
    {
      "cell_type": "code",
      "source": [
        "#using step\n",
        "print(Language[0:10:2])"
      ],
      "metadata": {
        "colab": {
          "base_uri": "https://localhost:8080/"
        },
        "id": "oc1sRymYkh2L",
        "outputId": "eeef4a3b-5a19-4b02-9c9b-9bd1df965bc7"
      },
      "execution_count": 43,
      "outputs": [
        {
          "output_type": "stream",
          "name": "stdout",
          "text": [
            "Pormi\n"
          ]
        }
      ]
    },
    {
      "cell_type": "code",
      "source": [
        "#using step\n",
        "print(Language[1:10:2])"
      ],
      "metadata": {
        "colab": {
          "base_uri": "https://localhost:8080/"
        },
        "id": "Xrz5mIqIkmhG",
        "outputId": "5153ec5a-d532-4a78-dc23-9a3e816542a5"
      },
      "execution_count": 44,
      "outputs": [
        {
          "output_type": "stream",
          "name": "stdout",
          "text": [
            "rgamn\n"
          ]
        }
      ]
    },
    {
      "cell_type": "markdown",
      "source": [
        "**String Concatenation without space**"
      ],
      "metadata": {
        "id": "6nN5Bq34mmem"
      }
    },
    {
      "cell_type": "code",
      "source": [
        "w1='Machine'\n",
        "w2='Learning'\n",
        "print(w1+w2)"
      ],
      "metadata": {
        "colab": {
          "base_uri": "https://localhost:8080/"
        },
        "id": "7_SFTxhylP2J",
        "outputId": "7aafe995-5bed-49d5-dddd-b561e4bc79c3"
      },
      "execution_count": 54,
      "outputs": [
        {
          "output_type": "stream",
          "name": "stdout",
          "text": [
            "MachineLearning\n"
          ]
        }
      ]
    },
    {
      "cell_type": "markdown",
      "source": [
        "**String Concatenation with space**"
      ],
      "metadata": {
        "id": "XezWuBPPms5L"
      }
    },
    {
      "cell_type": "code",
      "source": [
        "w1='Machine'\n",
        "w2='Learning'\n",
        "print(w1,\"\"+w2)"
      ],
      "metadata": {
        "colab": {
          "base_uri": "https://localhost:8080/"
        },
        "id": "9QYqatf_koC7",
        "outputId": "930e35c1-3345-4920-e6eb-f4b0f19f4711"
      },
      "execution_count": 59,
      "outputs": [
        {
          "output_type": "stream",
          "name": "stdout",
          "text": [
            "Machine Learning\n"
          ]
        }
      ]
    },
    {
      "cell_type": "code",
      "source": [],
      "metadata": {
        "id": "KJqNeOCZk0fT"
      },
      "execution_count": null,
      "outputs": []
    }
  ]
}