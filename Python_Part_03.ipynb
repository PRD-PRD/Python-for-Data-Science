{
  "nbformat": 4,
  "nbformat_minor": 0,
  "metadata": {
    "colab": {
      "provenance": []
    },
    "kernelspec": {
      "name": "python3",
      "display_name": "Python 3"
    },
    "language_info": {
      "name": "python"
    }
  },
  "cells": [
    {
      "cell_type": "markdown",
      "source": [
        "**Operators in Python**\n",
        "- Arithmetic Operators\n",
        "- Assignment Operators\n",
        "- Comparison Operators\n",
        "- Logical Operators\n",
        "- Identity Operators\n",
        "- Membership Operators"
      ],
      "metadata": {
        "id": "6NVpw3arFBCh"
      }
    },
    {
      "cell_type": "markdown",
      "source": [
        "**1.Arithmetic Operators**"
      ],
      "metadata": {
        "id": "SepIvJX3FaTH"
      }
    },
    {
      "cell_type": "code",
      "execution_count": 3,
      "metadata": {
        "colab": {
          "base_uri": "https://localhost:8080/"
        },
        "id": "Zk9IgtFzEvTJ",
        "outputId": "efc86ad6-01e9-4f1a-8b22-6fdf1b96c831"
      },
      "outputs": [
        {
          "output_type": "stream",
          "name": "stdout",
          "text": [
            "Addition = 30\n",
            "Subtraction = -10\n",
            "Product = 200\n",
            "Quotient = 0.5\n",
            "Reminder = 10\n",
            "Exponent = 100000000000000000000\n"
          ]
        }
      ],
      "source": [
        "n1=10\n",
        "n2=20\n",
        "\n",
        "## Addition\n",
        "add=n1+n2\n",
        "print(\"Addition =\",add)\n",
        "\n",
        "## Subtraction\n",
        "sub=n1-n2\n",
        "print(\"Subtraction =\",sub)\n",
        "\n",
        "## Multiplication\n",
        "mul=n1*n2\n",
        "print(\"Product =\",mul)\n",
        "\n",
        "## Division\n",
        "div=n1/n2\n",
        "print(\"Quotient =\",div)\n",
        "\n",
        "## Modulus\n",
        "mod=n1%n2\n",
        "print(\"Reminder =\",mod)\n",
        "\n",
        "## Exponent\n",
        "exp=n1**n2\n",
        "print(\"Exponent =\",exp)"
      ]
    },
    {
      "cell_type": "markdown",
      "source": [
        "**2.Assignment Operators**\n",
        "- +=\n",
        "- -=\n",
        "- *=\n",
        "- **=\n",
        "- /=\n",
        "- %="
      ],
      "metadata": {
        "id": "8wESF6oTG_Fy"
      }
    },
    {
      "cell_type": "code",
      "source": [
        "a=5\n",
        "print(a)"
      ],
      "metadata": {
        "colab": {
          "base_uri": "https://localhost:8080/"
        },
        "id": "Gji3dSQiGr1_",
        "outputId": "36fb2fe3-955f-4315-f03c-af41206270bf"
      },
      "execution_count": 4,
      "outputs": [
        {
          "output_type": "stream",
          "name": "stdout",
          "text": [
            "5\n"
          ]
        }
      ]
    },
    {
      "cell_type": "code",
      "source": [
        "a=5\n",
        "a+=5 ## a=a+5\n",
        "print(a)"
      ],
      "metadata": {
        "colab": {
          "base_uri": "https://localhost:8080/"
        },
        "id": "BgjySubyHOiP",
        "outputId": "4aadf6f5-04d5-437b-f7c2-981c890f4cdd"
      },
      "execution_count": 5,
      "outputs": [
        {
          "output_type": "stream",
          "name": "stdout",
          "text": [
            "10\n"
          ]
        }
      ]
    },
    {
      "cell_type": "code",
      "source": [
        "b=10\n",
        "b-=5 ## b=b-5\n",
        "print(b)"
      ],
      "metadata": {
        "colab": {
          "base_uri": "https://localhost:8080/"
        },
        "id": "YF7Ug4HbHS7K",
        "outputId": "31e262c8-b88e-4429-8ba7-5841c985f07f"
      },
      "execution_count": 7,
      "outputs": [
        {
          "output_type": "stream",
          "name": "stdout",
          "text": [
            "5\n"
          ]
        }
      ]
    },
    {
      "cell_type": "markdown",
      "source": [
        "**3.Comparison Operators**\n",
        "- ==\n",
        "- !=\n",
        "- <\n",
        "- <="
      ],
      "metadata": {
        "id": "KdxrbV1uHpFo"
      }
    },
    {
      "cell_type": "code",
      "source": [
        "a=20\n",
        "b=10\n",
        "\n",
        "print(a == b)\n",
        "print(a != b)\n",
        "print(a > b)\n",
        "print(a < b)\n",
        "print(a <= b)\n",
        "print(a >= b)"
      ],
      "metadata": {
        "colab": {
          "base_uri": "https://localhost:8080/"
        },
        "id": "2Nbtz2ULHjxQ",
        "outputId": "a0cc2139-1a2a-4bda-d7b4-a52e2f5a90c7"
      },
      "execution_count": 8,
      "outputs": [
        {
          "output_type": "stream",
          "name": "stdout",
          "text": [
            "False\n",
            "True\n",
            "True\n",
            "False\n",
            "False\n",
            "True\n"
          ]
        }
      ]
    },
    {
      "cell_type": "markdown",
      "source": [
        "**4.Logical Operators**\n",
        "- and\n",
        "- or\n",
        "- not"
      ],
      "metadata": {
        "id": "2RXT0N4zIShg"
      }
    },
    {
      "cell_type": "code",
      "source": [
        "a = 20\n",
        "\n",
        "print(a>20 and a>5)\n",
        "print(a>20 or a>5)\n",
        "print(not(a>10 and a>5))"
      ],
      "metadata": {
        "colab": {
          "base_uri": "https://localhost:8080/"
        },
        "id": "KGlM2AGUIPa_",
        "outputId": "462f9412-06f8-4e8e-af93-c70d27d20426"
      },
      "execution_count": 9,
      "outputs": [
        {
          "output_type": "stream",
          "name": "stdout",
          "text": [
            "False\n",
            "True\n",
            "False\n"
          ]
        }
      ]
    },
    {
      "cell_type": "markdown",
      "source": [
        "**5.Identify Operator**\n",
        "- is\n",
        "- is not"
      ],
      "metadata": {
        "id": "Z7qfWuTtI74g"
      }
    },
    {
      "cell_type": "code",
      "source": [
        "x=5\n",
        "y=5\n",
        "print(x is y)"
      ],
      "metadata": {
        "colab": {
          "base_uri": "https://localhost:8080/"
        },
        "id": "9gdroxFBItDi",
        "outputId": "fa619ced-974d-499d-adf4-25116d36bb5e"
      },
      "execution_count": 10,
      "outputs": [
        {
          "output_type": "stream",
          "name": "stdout",
          "text": [
            "True\n"
          ]
        }
      ]
    },
    {
      "cell_type": "code",
      "source": [
        "x=5\n",
        "y=10\n",
        "print(x is y)"
      ],
      "metadata": {
        "colab": {
          "base_uri": "https://localhost:8080/"
        },
        "id": "xA7mAv-jJGTg",
        "outputId": "d213adc4-ac30-4a40-bd9d-d2c71d9f31bb"
      },
      "execution_count": 11,
      "outputs": [
        {
          "output_type": "stream",
          "name": "stdout",
          "text": [
            "False\n"
          ]
        }
      ]
    },
    {
      "cell_type": "code",
      "source": [
        "x=5\n",
        "y=5\n",
        "print(x is not y)"
      ],
      "metadata": {
        "colab": {
          "base_uri": "https://localhost:8080/"
        },
        "id": "uOs2rMTaJJ5p",
        "outputId": "cdf5cb61-828a-4ba7-d0f0-69f2b2e47c08"
      },
      "execution_count": 12,
      "outputs": [
        {
          "output_type": "stream",
          "name": "stdout",
          "text": [
            "False\n"
          ]
        }
      ]
    },
    {
      "cell_type": "code",
      "source": [
        "x=5\n",
        "y=10\n",
        "print(x is not y)"
      ],
      "metadata": {
        "colab": {
          "base_uri": "https://localhost:8080/"
        },
        "id": "j5wi7OEJJOUH",
        "outputId": "afcce05c-f74f-461f-9084-1a31e6c379ed"
      },
      "execution_count": 13,
      "outputs": [
        {
          "output_type": "stream",
          "name": "stdout",
          "text": [
            "True\n"
          ]
        }
      ]
    },
    {
      "cell_type": "markdown",
      "source": [
        "**6.Membership Operator**\n",
        "- in\n",
        "- not in"
      ],
      "metadata": {
        "id": "u-jnc8dUJXP4"
      }
    },
    {
      "cell_type": "code",
      "source": [
        "a=5\n",
        "b=10\n",
        "\n",
        "c=[1,2,3,4,5]\n",
        "print(a in c)\n",
        "print(b in c)"
      ],
      "metadata": {
        "colab": {
          "base_uri": "https://localhost:8080/"
        },
        "id": "3HmPgX-BJVv9",
        "outputId": "212e3d3d-a866-4365-8f36-495be27f4767"
      },
      "execution_count": 15,
      "outputs": [
        {
          "output_type": "stream",
          "name": "stdout",
          "text": [
            "True\n",
            "False\n"
          ]
        }
      ]
    },
    {
      "cell_type": "code",
      "source": [
        "a=5\n",
        "b=10\n",
        "\n",
        "c=[1,2,3,4,5]\n",
        "print(a not in c)\n",
        "print(b not in c)"
      ],
      "metadata": {
        "colab": {
          "base_uri": "https://localhost:8080/"
        },
        "id": "2i9WMNC-Jx5g",
        "outputId": "9762e253-ff26-4630-8284-5f91ef390e11"
      },
      "execution_count": 16,
      "outputs": [
        {
          "output_type": "stream",
          "name": "stdout",
          "text": [
            "False\n",
            "True\n"
          ]
        }
      ]
    },
    {
      "cell_type": "markdown",
      "source": [
        "simple **if else** statement"
      ],
      "metadata": {
        "id": "7yjkZhshKHaT"
      }
    },
    {
      "cell_type": "code",
      "source": [
        "a=30\n",
        "b=50\n",
        "\n",
        "if(a>b):\n",
        "  print(\"a is the big number\")\n",
        "else:\n",
        "  print(\"b is the big number\")"
      ],
      "metadata": {
        "colab": {
          "base_uri": "https://localhost:8080/"
        },
        "id": "meUZ1uW6J9V5",
        "outputId": "af1a8046-6641-42a1-b787-bb1752d7f7fa"
      },
      "execution_count": 17,
      "outputs": [
        {
          "output_type": "stream",
          "name": "stdout",
          "text": [
            "b is the big number\n"
          ]
        }
      ]
    },
    {
      "cell_type": "code",
      "source": [
        "a=int(input(\"Enter the First Number: \"))\n",
        "b=int(input(\"Enter the Second Nummber: \"))\n",
        "\n",
        "if a>b:\n",
        "  print(\"First Number is Big\")\n",
        "else:\n",
        "  print(\"Second Number is Big\")"
      ],
      "metadata": {
        "colab": {
          "base_uri": "https://localhost:8080/"
        },
        "id": "3_tugDC9KdBl",
        "outputId": "dba01047-6d18-449f-89ca-9705f78cf37c"
      },
      "execution_count": 18,
      "outputs": [
        {
          "output_type": "stream",
          "name": "stdout",
          "text": [
            "Enter the First Number: 20\n",
            "Enter the Second Nummber: 21\n",
            "Second Number is Big\n"
          ]
        }
      ]
    },
    {
      "cell_type": "markdown",
      "source": [
        "**if elif else** statement"
      ],
      "metadata": {
        "id": "iPGJrGmcK3c2"
      }
    },
    {
      "cell_type": "code",
      "source": [
        "a=1\n",
        "b=2\n",
        "c=8\n",
        "\n",
        "if a>b:\n",
        "  print(\"a is big\")\n",
        "elif b>c:\n",
        "  print(\"b is big\")\n",
        "else:\n",
        "  print(\"c is big\")"
      ],
      "metadata": {
        "colab": {
          "base_uri": "https://localhost:8080/"
        },
        "id": "s36ydKxCKxBs",
        "outputId": "5acb346d-7d49-48e5-86b8-06007d01555b"
      },
      "execution_count": 26,
      "outputs": [
        {
          "output_type": "stream",
          "name": "stdout",
          "text": [
            "c is big\n"
          ]
        }
      ]
    },
    {
      "cell_type": "markdown",
      "source": [
        "**nested if** statement"
      ],
      "metadata": {
        "id": "da_lSridLfZO"
      }
    },
    {
      "cell_type": "code",
      "source": [
        "a=20\n",
        "b=40\n",
        "c=60\n",
        "\n",
        "if a>b:\n",
        "  if a>c:\n",
        "    print(\"a is big\")\n",
        "  else:\n",
        "    print(\"c is big\")\n",
        "else:\n",
        "  if b>c:\n",
        "    print(\"b is big\")\n",
        "  else:\n",
        "    print(\"c is big\")\n"
      ],
      "metadata": {
        "colab": {
          "base_uri": "https://localhost:8080/"
        },
        "id": "_JJT8FQeLMQ1",
        "outputId": "28bb6d50-ef26-4273-8a2c-1101f74c7afe"
      },
      "execution_count": 27,
      "outputs": [
        {
          "output_type": "stream",
          "name": "stdout",
          "text": [
            "c is big\n"
          ]
        }
      ]
    },
    {
      "cell_type": "markdown",
      "source": [
        "**for** loop"
      ],
      "metadata": {
        "id": "0naLv_-rMMzf"
      }
    },
    {
      "cell_type": "code",
      "source": [
        "l1=int(input(\"Enter the Price: \"))\n",
        "l1=int(input(\"Enter the Price: \"))"
      ],
      "metadata": {
        "colab": {
          "base_uri": "https://localhost:8080/"
        },
        "id": "bKSvbsPEL5Qa",
        "outputId": "86de50ad-6ef5-4211-c90f-5fdd8cd3d70b"
      },
      "execution_count": 28,
      "outputs": [
        {
          "name": "stdout",
          "output_type": "stream",
          "text": [
            "Enter the Price: 25000\n",
            "Enter the Price: 35000\n"
          ]
        }
      ]
    },
    {
      "cell_type": "code",
      "source": [
        "for i in range(7):\n",
        "  print(i)"
      ],
      "metadata": {
        "colab": {
          "base_uri": "https://localhost:8080/"
        },
        "id": "Na4f-V6hManZ",
        "outputId": "7a085af7-e755-4705-b4b3-a35e9fffb43d"
      },
      "execution_count": 30,
      "outputs": [
        {
          "output_type": "stream",
          "name": "stdout",
          "text": [
            "0\n",
            "1\n",
            "2\n",
            "3\n",
            "4\n",
            "5\n",
            "6\n"
          ]
        }
      ]
    },
    {
      "cell_type": "code",
      "source": [
        "n=[50,100,150,200]\n",
        "print(n[0])\n",
        "print(n[1])\n",
        "print(n[2])\n",
        "print(n[3])\n"
      ],
      "metadata": {
        "colab": {
          "base_uri": "https://localhost:8080/"
        },
        "id": "JFohM0cRMu2Y",
        "outputId": "af460b43-0713-4dc6-8af4-261bba189c0b"
      },
      "execution_count": 31,
      "outputs": [
        {
          "output_type": "stream",
          "name": "stdout",
          "text": [
            "50\n",
            "100\n",
            "150\n",
            "200\n"
          ]
        }
      ]
    },
    {
      "cell_type": "code",
      "source": [
        "for i in n:\n",
        "  print(i)"
      ],
      "metadata": {
        "colab": {
          "base_uri": "https://localhost:8080/"
        },
        "id": "nlZPMHsENHpu",
        "outputId": "0d27cc7d-1f50-4dd3-db0b-8a44b933ebc9"
      },
      "execution_count": 32,
      "outputs": [
        {
          "output_type": "stream",
          "name": "stdout",
          "text": [
            "50\n",
            "100\n",
            "150\n",
            "200\n"
          ]
        }
      ]
    },
    {
      "cell_type": "markdown",
      "source": [
        "**while** loop\n",
        "\n",
        "while condition:\n",
        "\n",
        "    statement"
      ],
      "metadata": {
        "id": "QYORG_6xNRkC"
      }
    },
    {
      "cell_type": "code",
      "source": [
        "i=1\n",
        "while i<=10:\n",
        "  print(i)\n",
        "  i+=1"
      ],
      "metadata": {
        "colab": {
          "base_uri": "https://localhost:8080/"
        },
        "id": "IcdXuCP_NOsW",
        "outputId": "afcfd76f-b85b-427e-a411-6df0fcb022ba"
      },
      "execution_count": 35,
      "outputs": [
        {
          "output_type": "stream",
          "name": "stdout",
          "text": [
            "1\n",
            "2\n",
            "3\n",
            "4\n",
            "5\n",
            "6\n",
            "7\n",
            "8\n",
            "9\n",
            "10\n"
          ]
        }
      ]
    },
    {
      "cell_type": "code",
      "source": [
        "i=5\n",
        "while i<10:\n",
        "  print(i)\n",
        "  i+=1"
      ],
      "metadata": {
        "colab": {
          "base_uri": "https://localhost:8080/"
        },
        "id": "nG5npfmKNl1q",
        "outputId": "a68a8200-3b47-446d-c12b-32e5407a590b"
      },
      "execution_count": 37,
      "outputs": [
        {
          "output_type": "stream",
          "name": "stdout",
          "text": [
            "5\n",
            "6\n",
            "7\n",
            "8\n",
            "9\n"
          ]
        }
      ]
    },
    {
      "cell_type": "markdown",
      "source": [
        "**Functions**\n",
        "- Function is a block of code that can be reused in a Program"
      ],
      "metadata": {
        "id": "GSXORTgnORDh"
      }
    },
    {
      "cell_type": "code",
      "source": [
        "## Factorial of a Number\n",
        "## Factorail of a number is the product of all the positive integers less than or equal to the given number.\n",
        "## Factorail of 5 = 5*4*3*2*1 = 120\n",
        "\n",
        "n=int(input(\"Enter the number to find factorial: \"))\n",
        "f=1\n",
        "for i in range(1,n+1):\n",
        "  f=f*i\n",
        "print(\"The factorial is:\",f)\n"
      ],
      "metadata": {
        "colab": {
          "base_uri": "https://localhost:8080/"
        },
        "id": "Kbx4qXTyN_ns",
        "outputId": "b8b10e04-cb60-494a-9de4-ded08aca27df"
      },
      "execution_count": 49,
      "outputs": [
        {
          "output_type": "stream",
          "name": "stdout",
          "text": [
            "Enter the number to find factorial: 10\n",
            "The factorial is: 3628800\n"
          ]
        }
      ]
    },
    {
      "cell_type": "markdown",
      "source": [
        "**Factorial Function**"
      ],
      "metadata": {
        "id": "WHhzNwFTSBBO"
      }
    },
    {
      "cell_type": "code",
      "source": [
        "def fact(n):\n",
        "  f=1\n",
        "  for i in range(1,n+1):\n",
        "    f=f*i\n",
        "  return f"
      ],
      "metadata": {
        "id": "9B-lsWw5OzRt"
      },
      "execution_count": 50,
      "outputs": []
    },
    {
      "cell_type": "code",
      "source": [
        "fact(5)"
      ],
      "metadata": {
        "colab": {
          "base_uri": "https://localhost:8080/"
        },
        "id": "HH5z1mh8STJY",
        "outputId": "9d87d5f1-25c3-43e8-f5dd-0272c88c618c"
      },
      "execution_count": 51,
      "outputs": [
        {
          "output_type": "execute_result",
          "data": {
            "text/plain": [
              "120"
            ]
          },
          "metadata": {},
          "execution_count": 51
        }
      ]
    },
    {
      "cell_type": "code",
      "source": [
        "fact(6)"
      ],
      "metadata": {
        "colab": {
          "base_uri": "https://localhost:8080/"
        },
        "id": "3R6nDtjqSVqm",
        "outputId": "bcc5f7bc-73e0-4e6c-b638-ad5894a43334"
      },
      "execution_count": 52,
      "outputs": [
        {
          "output_type": "execute_result",
          "data": {
            "text/plain": [
              "720"
            ]
          },
          "metadata": {},
          "execution_count": 52
        }
      ]
    },
    {
      "cell_type": "code",
      "source": [
        "fact(7)"
      ],
      "metadata": {
        "colab": {
          "base_uri": "https://localhost:8080/"
        },
        "id": "GaafOWvXSW_c",
        "outputId": "7a276279-7a9c-4d49-feab-5631a11214cb"
      },
      "execution_count": 54,
      "outputs": [
        {
          "output_type": "execute_result",
          "data": {
            "text/plain": [
              "5040"
            ]
          },
          "metadata": {},
          "execution_count": 54
        }
      ]
    },
    {
      "cell_type": "code",
      "source": [],
      "metadata": {
        "id": "38aUxPdqSYkv"
      },
      "execution_count": null,
      "outputs": []
    }
  ]
}