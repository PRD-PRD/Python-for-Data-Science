{
  "nbformat": 4,
  "nbformat_minor": 0,
  "metadata": {
    "colab": {
      "provenance": []
    },
    "kernelspec": {
      "name": "python3",
      "display_name": "Python 3"
    },
    "language_info": {
      "name": "python"
    }
  },
  "cells": [
    {
      "cell_type": "code",
      "execution_count": 1,
      "metadata": {
        "colab": {
          "base_uri": "https://localhost:8080/"
        },
        "id": "Vu_oB9yBh3y9",
        "outputId": "be257d57-c88a-4110-f396-8aa64a7f1d23"
      },
      "outputs": [
        {
          "output_type": "execute_result",
          "data": {
            "text/plain": [
              "[123, 'Raj', 'Rani', 23.34]"
            ]
          },
          "metadata": {},
          "execution_count": 1
        }
      ],
      "source": [
        "## In the first method, we will use list() to convert the set.\n",
        "a=[123,'Raj','Rani',23.34]\n",
        "a"
      ]
    },
    {
      "cell_type": "code",
      "source": [
        "b=set(a)\n",
        "b"
      ],
      "metadata": {
        "colab": {
          "base_uri": "https://localhost:8080/"
        },
        "id": "RsEnCDHch4T3",
        "outputId": "5ca8a2e1-03e6-4254-f6f7-1b655e448844"
      },
      "execution_count": 2,
      "outputs": [
        {
          "output_type": "execute_result",
          "data": {
            "text/plain": [
              "{123, 23.34, 'Raj', 'Rani'}"
            ]
          },
          "metadata": {},
          "execution_count": 2
        }
      ]
    },
    {
      "cell_type": "code",
      "source": [
        "c=list(b)\n",
        "c"
      ],
      "metadata": {
        "colab": {
          "base_uri": "https://localhost:8080/"
        },
        "id": "8-nWUUAph4VV",
        "outputId": "502f6ae7-4699-486c-c837-cce1f44d5dfa"
      },
      "execution_count": 3,
      "outputs": [
        {
          "output_type": "execute_result",
          "data": {
            "text/plain": [
              "[123, 'Rani', 'Raj', 23.34]"
            ]
          },
          "metadata": {},
          "execution_count": 3
        }
      ]
    },
    {
      "cell_type": "code",
      "source": [
        "type(c)"
      ],
      "metadata": {
        "colab": {
          "base_uri": "https://localhost:8080/"
        },
        "id": "sZl7XXJs8kfx",
        "outputId": "70523920-e721-4c2d-8fdc-6f8994dd5043"
      },
      "execution_count": 4,
      "outputs": [
        {
          "output_type": "execute_result",
          "data": {
            "text/plain": [
              "list"
            ]
          },
          "metadata": {},
          "execution_count": 4
        }
      ]
    },
    {
      "cell_type": "code",
      "source": [
        "type(b)"
      ],
      "metadata": {
        "colab": {
          "base_uri": "https://localhost:8080/"
        },
        "id": "MS2AYhjjhA4t",
        "outputId": "ed6bd67b-8408-49d1-9191-d1422fed459b"
      },
      "execution_count": 5,
      "outputs": [
        {
          "output_type": "execute_result",
          "data": {
            "text/plain": [
              "set"
            ]
          },
          "metadata": {},
          "execution_count": 5
        }
      ]
    },
    {
      "cell_type": "code",
      "source": [
        "## How to convert int to string in Python\n",
        "## Using the str() function\n",
        "n=24\n",
        "print(type(n))"
      ],
      "metadata": {
        "colab": {
          "base_uri": "https://localhost:8080/"
        },
        "id": "362gVXUrh4Zk",
        "outputId": "f5023cb1-cac1-40cf-a356-6c1d1508b8e6"
      },
      "execution_count": 6,
      "outputs": [
        {
          "output_type": "stream",
          "name": "stdout",
          "text": [
            "<class 'int'>\n"
          ]
        }
      ]
    },
    {
      "cell_type": "code",
      "source": [
        "m=str(n)\n",
        "print(type(m))"
      ],
      "metadata": {
        "colab": {
          "base_uri": "https://localhost:8080/"
        },
        "id": "EjXy8stxh4ba",
        "outputId": "2524b8c9-873b-4d7c-a19f-1354cf29f8b4"
      },
      "execution_count": 7,
      "outputs": [
        {
          "output_type": "stream",
          "name": "stdout",
          "text": [
            "<class 'str'>\n"
          ]
        }
      ]
    },
    {
      "cell_type": "code",
      "source": [
        "## How to add two strings in python with plus operator\n",
        "s='Prudhvi'\n",
        "t='Raj'\n",
        "print(s)\n",
        "print(t)"
      ],
      "metadata": {
        "colab": {
          "base_uri": "https://localhost:8080/"
        },
        "id": "FQq98qeBh4e7",
        "outputId": "3242ca5b-cbd1-4a08-ad37-c3987989ec49"
      },
      "execution_count": 8,
      "outputs": [
        {
          "output_type": "stream",
          "name": "stdout",
          "text": [
            "Prudhvi\n",
            "Raj\n"
          ]
        }
      ]
    },
    {
      "cell_type": "code",
      "source": [
        "s1=\"Tutorials\"\n",
        "s2=\"Point\"\n",
        "s3=s1+s2\n",
        "s4=s1+\" \"+s2\n",
        "print(s3)\n",
        "print(s4)"
      ],
      "metadata": {
        "colab": {
          "base_uri": "https://localhost:8080/"
        },
        "id": "jPLy7dSaibxd",
        "outputId": "7316a05b-fe12-4576-c092-1bfe3575f7c6"
      },
      "execution_count": 9,
      "outputs": [
        {
          "output_type": "stream",
          "name": "stdout",
          "text": [
            "TutorialsPoint\n",
            "Tutorials Point\n"
          ]
        }
      ]
    },
    {
      "cell_type": "code",
      "source": [
        "y= s+\" \"+ t\n",
        "y"
      ],
      "metadata": {
        "colab": {
          "base_uri": "https://localhost:8080/",
          "height": 35
        },
        "id": "CwYjRYGsht5V",
        "outputId": "b4271250-cafa-4bd1-fa4a-1f1cc359fc59"
      },
      "execution_count": 10,
      "outputs": [
        {
          "output_type": "execute_result",
          "data": {
            "text/plain": [
              "'Prudhvi Raj'"
            ],
            "application/vnd.google.colaboratory.intrinsic+json": {
              "type": "string"
            }
          },
          "metadata": {},
          "execution_count": 10
        }
      ]
    },
    {
      "cell_type": "code",
      "source": [
        "import pandas as pd"
      ],
      "metadata": {
        "id": "QAOwYlia9bTa"
      },
      "execution_count": 11,
      "outputs": []
    },
    {
      "cell_type": "code",
      "source": [
        "e=print(\" \".join([s,t]))\n",
        "e"
      ],
      "metadata": {
        "colab": {
          "base_uri": "https://localhost:8080/"
        },
        "id": "36w3tfsTh4ih",
        "outputId": "d765691a-8821-4473-a6a2-23b3a2f5f4af"
      },
      "execution_count": 14,
      "outputs": [
        {
          "output_type": "stream",
          "name": "stdout",
          "text": [
            "Prudhvi Raj\n"
          ]
        }
      ]
    },
    {
      "cell_type": "code",
      "source": [
        "## How to convert list to dictionary\n",
        "f=[1,2,3,4,5,6,7,8,9,10]\n",
        "g= {n:n*n for n in f}\n",
        "print(g)"
      ],
      "metadata": {
        "colab": {
          "base_uri": "https://localhost:8080/"
        },
        "id": "ZcGDz6smh4ly",
        "outputId": "693a5dd1-7637-4575-baee-75440578f72e"
      },
      "execution_count": 15,
      "outputs": [
        {
          "output_type": "stream",
          "name": "stdout",
          "text": [
            "{1: 1, 2: 4, 3: 9, 4: 16, 5: 25, 6: 36, 7: 49, 8: 64, 9: 81, 10: 100}\n"
          ]
        }
      ]
    },
    {
      "cell_type": "code",
      "source": [
        "a=[1,2,3,4,5,67]\n",
        "g = { n:n*n for n in a}\n",
        "print(g)"
      ],
      "metadata": {
        "colab": {
          "base_uri": "https://localhost:8080/"
        },
        "id": "_YRA9NShApOK",
        "outputId": "fcaca0d2-61e5-464d-e31d-4ecaf91c02b5"
      },
      "execution_count": 16,
      "outputs": [
        {
          "output_type": "stream",
          "name": "stdout",
          "text": [
            "{1: 1, 2: 4, 3: 9, 4: 16, 5: 25, 67: 4489}\n"
          ]
        }
      ]
    },
    {
      "cell_type": "code",
      "source": [
        "## Get the values using key\n",
        "print(g[5])"
      ],
      "metadata": {
        "colab": {
          "base_uri": "https://localhost:8080/"
        },
        "id": "T7BZXYt2h4pY",
        "outputId": "c2f1cb97-4c48-40a4-9de7-dc07a06ec0b5"
      },
      "execution_count": 17,
      "outputs": [
        {
          "output_type": "stream",
          "name": "stdout",
          "text": [
            "25\n"
          ]
        }
      ]
    },
    {
      "cell_type": "code",
      "source": [
        "## Get the values using values function\n",
        "print(g.values())"
      ],
      "metadata": {
        "colab": {
          "base_uri": "https://localhost:8080/"
        },
        "id": "PqqIGGXTh4sT",
        "outputId": "842bf2f7-cd62-4ffb-a1c1-85aa72e9888e"
      },
      "execution_count": 18,
      "outputs": [
        {
          "output_type": "stream",
          "name": "stdout",
          "text": [
            "dict_values([1, 4, 9, 16, 25, 4489])\n"
          ]
        }
      ]
    },
    {
      "cell_type": "code",
      "source": [
        "## Get the keys using keys function\n",
        "print(g.keys())"
      ],
      "metadata": {
        "colab": {
          "base_uri": "https://localhost:8080/"
        },
        "id": "YrXDYu2lpc5K",
        "outputId": "8df4556b-78b6-4487-81dc-b442b99098cd"
      },
      "execution_count": 19,
      "outputs": [
        {
          "output_type": "stream",
          "name": "stdout",
          "text": [
            "dict_keys([1, 2, 3, 4, 5, 67])\n"
          ]
        }
      ]
    },
    {
      "cell_type": "code",
      "source": [
        "h=[1,2,3,4,5,6,7,8,9,10]\n",
        "i=[10,20,30,40,50,60,70,80,90,100]"
      ],
      "metadata": {
        "id": "sLNFX2GDp7RA"
      },
      "execution_count": 20,
      "outputs": []
    },
    {
      "cell_type": "code",
      "source": [
        "## Convert the two list into dictionary\n",
        "l=dict(zip(h,i))"
      ],
      "metadata": {
        "id": "ggs08XIdqEsU"
      },
      "execution_count": 21,
      "outputs": []
    },
    {
      "cell_type": "code",
      "source": [
        "## Convert the array to dictionary\n",
        "import numpy as np\n",
        "a=np.array([1,2,3,4,5,6,7,8,9,10])\n",
        "a"
      ],
      "metadata": {
        "colab": {
          "base_uri": "https://localhost:8080/"
        },
        "id": "9uOpc9kzqEuG",
        "outputId": "69aab20e-2fb0-4a8d-d38a-b8f7456dc1d3"
      },
      "execution_count": 22,
      "outputs": [
        {
          "output_type": "execute_result",
          "data": {
            "text/plain": [
              "array([ 1,  2,  3,  4,  5,  6,  7,  8,  9, 10])"
            ]
          },
          "metadata": {},
          "execution_count": 22
        }
      ]
    },
    {
      "cell_type": "code",
      "source": [
        "import numpy as np\n",
        "t=[]\n",
        "for i in range(1,11):\n",
        "  t.append(i)\n",
        "print(t)"
      ],
      "metadata": {
        "colab": {
          "base_uri": "https://localhost:8080/"
        },
        "id": "UvVY96YSBGzm",
        "outputId": "72ec1447-2827-40cf-f722-2dc9ac386593"
      },
      "execution_count": 23,
      "outputs": [
        {
          "output_type": "stream",
          "name": "stdout",
          "text": [
            "[1, 2, 3, 4, 5, 6, 7, 8, 9, 10]\n"
          ]
        }
      ]
    },
    {
      "cell_type": "code",
      "source": [
        "tuple(t)"
      ],
      "metadata": {
        "colab": {
          "base_uri": "https://localhost:8080/"
        },
        "id": "4EY4DNmfB-W0",
        "outputId": "14e92650-4774-46d7-b7bb-71dc6de1cc09"
      },
      "execution_count": 24,
      "outputs": [
        {
          "output_type": "execute_result",
          "data": {
            "text/plain": [
              "(1, 2, 3, 4, 5, 6, 7, 8, 9, 10)"
            ]
          },
          "metadata": {},
          "execution_count": 24
        }
      ]
    },
    {
      "cell_type": "code",
      "source": [
        "list(t)"
      ],
      "metadata": {
        "colab": {
          "base_uri": "https://localhost:8080/"
        },
        "id": "YspE-IzaCB9O",
        "outputId": "a936c718-b40b-4847-dd24-fb6e4fe9bbad"
      },
      "execution_count": 25,
      "outputs": [
        {
          "output_type": "execute_result",
          "data": {
            "text/plain": [
              "[1, 2, 3, 4, 5, 6, 7, 8, 9, 10]"
            ]
          },
          "metadata": {},
          "execution_count": 25
        }
      ]
    },
    {
      "cell_type": "code",
      "source": [
        "k={ n: n*n for n in a}\n",
        "print(k)"
      ],
      "metadata": {
        "colab": {
          "base_uri": "https://localhost:8080/"
        },
        "id": "XNysQ3lZqEwV",
        "outputId": "bcdff606-5eff-4549-fac3-7a319d191e79"
      },
      "execution_count": 26,
      "outputs": [
        {
          "output_type": "stream",
          "name": "stdout",
          "text": [
            "{1: 1, 2: 4, 3: 9, 4: 16, 5: 25, 6: 36, 7: 49, 8: 64, 9: 81, 10: 100}\n"
          ]
        }
      ]
    },
    {
      "cell_type": "code",
      "source": [
        "## Find the mean of a list using mean method in statistics.\n",
        "from statistics import mean\n",
        "def m(h):\n",
        "  return mean(h)\n",
        "\n",
        "from statistics import median\n",
        "def n(h):\n",
        "  return median(h)\n",
        "\n",
        "from statistics import mode\n",
        "def o(h):\n",
        "  return mode(h)"
      ],
      "metadata": {
        "id": "w0ykLrqUqE0f"
      },
      "execution_count": 27,
      "outputs": []
    },
    {
      "cell_type": "code",
      "source": [
        "import statistics\n",
        "def j(l):\n",
        "  return mean(l)"
      ],
      "metadata": {
        "id": "u-xlJoUICNzb"
      },
      "execution_count": 28,
      "outputs": []
    },
    {
      "cell_type": "code",
      "source": [
        "l=[1,2,3,4,5,6,7,8,9,10]"
      ],
      "metadata": {
        "id": "dVXKdnTaqE2d"
      },
      "execution_count": 29,
      "outputs": []
    },
    {
      "cell_type": "code",
      "source": [
        "mean(l)"
      ],
      "metadata": {
        "colab": {
          "base_uri": "https://localhost:8080/"
        },
        "id": "t6pOQ1LSCZRR",
        "outputId": "66c9fda8-65e0-482f-9b0d-7a835654e2b9"
      },
      "execution_count": 30,
      "outputs": [
        {
          "output_type": "execute_result",
          "data": {
            "text/plain": [
              "5.5"
            ]
          },
          "metadata": {},
          "execution_count": 30
        }
      ]
    },
    {
      "cell_type": "code",
      "source": [],
      "metadata": {
        "id": "OfEZaAY0CbP_"
      },
      "execution_count": 30,
      "outputs": []
    },
    {
      "cell_type": "code",
      "source": [
        "print(\"Mean\",m(h))\n",
        "print(\"Median\",n(h))\n",
        "print(\"Mode\",o(h))"
      ],
      "metadata": {
        "id": "ya_yEHoIqE6t",
        "colab": {
          "base_uri": "https://localhost:8080/"
        },
        "outputId": "5f710b8f-3881-47e6-8a91-42563ac6e060"
      },
      "execution_count": 31,
      "outputs": [
        {
          "output_type": "stream",
          "name": "stdout",
          "text": [
            "Mean 5.5\n",
            "Median 5.5\n",
            "Mode 1\n"
          ]
        }
      ]
    },
    {
      "cell_type": "code",
      "source": [
        "## Find the mean using function\n",
        "def r(h):\n",
        "  return sum(h)/len(h)"
      ],
      "metadata": {
        "id": "ws78QJ2sqE9k"
      },
      "execution_count": 32,
      "outputs": []
    },
    {
      "cell_type": "code",
      "source": [
        "r(h)"
      ],
      "metadata": {
        "id": "rzZsEoYIqE_u",
        "colab": {
          "base_uri": "https://localhost:8080/"
        },
        "outputId": "f64fe1e7-52c9-4ab5-b643-9a3def664180"
      },
      "execution_count": 33,
      "outputs": [
        {
          "output_type": "execute_result",
          "data": {
            "text/plain": [
              "5.5"
            ]
          },
          "metadata": {},
          "execution_count": 33
        }
      ]
    },
    {
      "cell_type": "code",
      "source": [
        "## Using for loop finding mean of the list\n",
        "def cal_average(num):\n",
        "    n = 0\n",
        "    for i in num:\n",
        "        n = n + i           \n",
        "        n+i/n\n",
        "    \n",
        "    return n"
      ],
      "metadata": {
        "id": "NG7Lvv-UqFBg"
      },
      "execution_count": 34,
      "outputs": []
    },
    {
      "cell_type": "code",
      "source": [
        "def m(n):\n",
        "  r=0\n",
        "  for i in n:\n",
        "    r=r+i\n",
        "    r+i/r\n",
        "  return r"
      ],
      "metadata": {
        "id": "YkQKJEEUjw_k"
      },
      "execution_count": 35,
      "outputs": []
    },
    {
      "cell_type": "code",
      "source": [
        "def mean(n):\n",
        "  result=0\n",
        "  for i in n:\n",
        "    result=result+i\n",
        "    result+i/result\n",
        "  return result "
      ],
      "metadata": {
        "id": "R0AYyDkekYqZ"
      },
      "execution_count": 36,
      "outputs": []
    },
    {
      "cell_type": "code",
      "source": [
        "n=[1,2,3,4,5,6,7,8,9,10]"
      ],
      "metadata": {
        "id": "sDJWwVZ8qFE2"
      },
      "execution_count": 37,
      "outputs": []
    },
    {
      "cell_type": "code",
      "source": [
        "mean(n)"
      ],
      "metadata": {
        "colab": {
          "base_uri": "https://localhost:8080/"
        },
        "id": "NP_c4VecxLiJ",
        "outputId": "477669d2-1214-4b98-b82f-1ea2a2bcd1a0"
      },
      "execution_count": 38,
      "outputs": [
        {
          "output_type": "execute_result",
          "data": {
            "text/plain": [
              "55"
            ]
          },
          "metadata": {},
          "execution_count": 38
        }
      ]
    },
    {
      "cell_type": "code",
      "source": [
        "import numpy as np\n",
        "p = np.array([1,2,3,4,5,6,7,8,9,10])\n",
        "p"
      ],
      "metadata": {
        "colab": {
          "base_uri": "https://localhost:8080/"
        },
        "id": "0rdctuBixLfj",
        "outputId": "be076a25-54ca-4c38-9377-8dc2ecff1608"
      },
      "execution_count": 39,
      "outputs": [
        {
          "output_type": "execute_result",
          "data": {
            "text/plain": [
              "array([ 1,  2,  3,  4,  5,  6,  7,  8,  9, 10])"
            ]
          },
          "metadata": {},
          "execution_count": 39
        }
      ]
    },
    {
      "cell_type": "code",
      "source": [
        "r(p)"
      ],
      "metadata": {
        "colab": {
          "base_uri": "https://localhost:8080/"
        },
        "id": "cs_vb1-CxLbX",
        "outputId": "1a650232-5d9d-4aea-871d-19ae61040433"
      },
      "execution_count": 40,
      "outputs": [
        {
          "output_type": "execute_result",
          "data": {
            "text/plain": [
              "5.5"
            ]
          },
          "metadata": {},
          "execution_count": 40
        }
      ]
    },
    {
      "cell_type": "code",
      "source": [
        "cal_average(p)"
      ],
      "metadata": {
        "colab": {
          "base_uri": "https://localhost:8080/"
        },
        "id": "NucwXQxSxLZL",
        "outputId": "a7923d90-2c88-4d3e-8892-8bb79cf60703"
      },
      "execution_count": 41,
      "outputs": [
        {
          "output_type": "execute_result",
          "data": {
            "text/plain": [
              "55"
            ]
          },
          "metadata": {},
          "execution_count": 41
        }
      ]
    },
    {
      "cell_type": "code",
      "source": [
        "## Finding the mean medain and mode with function\n",
        "def mean(t):\n",
        "  return sum(t)/len(t)\n",
        "\n",
        "def median(t):\n",
        "  t.sort()\n",
        "  if len(t) % 2 == 1:\n",
        "    return t[len(t)//2]\n",
        "  else:\n",
        "    return (t[len(t)//2-1] + t[len(t)//2])/2"
      ],
      "metadata": {
        "id": "YjN7XDPilPgZ"
      },
      "execution_count": 42,
      "outputs": []
    },
    {
      "cell_type": "code",
      "source": [
        "def medain(r):\n",
        "  n.sort()\n",
        "  if len(n) % 2 == 1:\n",
        "    return n[len(n)//2]\n",
        "  else:\n",
        "    return (n[len(n)//2-1] + n[len(t)//2])/2"
      ],
      "metadata": {
        "id": "mnZUBylSDW9H"
      },
      "execution_count": 43,
      "outputs": []
    },
    {
      "cell_type": "code",
      "source": [
        "r=[1,2,3,4,5,6,7,7,8,2,4,6,7,9,9,3,4,5,6,7]\n",
        "r"
      ],
      "metadata": {
        "colab": {
          "base_uri": "https://localhost:8080/"
        },
        "id": "Iend_ipboPP7",
        "outputId": "5f47e666-2927-461c-a7e4-590c63ea7e81"
      },
      "execution_count": 44,
      "outputs": [
        {
          "output_type": "execute_result",
          "data": {
            "text/plain": [
              "[1, 2, 3, 4, 5, 6, 7, 7, 8, 2, 4, 6, 7, 9, 9, 3, 4, 5, 6, 7]"
            ]
          },
          "metadata": {},
          "execution_count": 44
        }
      ]
    },
    {
      "cell_type": "code",
      "source": [
        "median(r)"
      ],
      "metadata": {
        "colab": {
          "base_uri": "https://localhost:8080/"
        },
        "id": "kroNefX9D6Z6",
        "outputId": "3668b5d7-ba19-485d-fcf0-512ccfc43767"
      },
      "execution_count": 45,
      "outputs": [
        {
          "output_type": "execute_result",
          "data": {
            "text/plain": [
              "5.5"
            ]
          },
          "metadata": {},
          "execution_count": 45
        }
      ]
    },
    {
      "cell_type": "code",
      "source": [
        "mean(t)"
      ],
      "metadata": {
        "colab": {
          "base_uri": "https://localhost:8080/"
        },
        "id": "nZIRgFa3oWWC",
        "outputId": "f037d057-6a1b-4ee8-d762-e3cea86f5e22"
      },
      "execution_count": 46,
      "outputs": [
        {
          "output_type": "execute_result",
          "data": {
            "text/plain": [
              "5.5"
            ]
          },
          "metadata": {},
          "execution_count": 46
        }
      ]
    },
    {
      "cell_type": "code",
      "source": [
        "median(t)"
      ],
      "metadata": {
        "colab": {
          "base_uri": "https://localhost:8080/"
        },
        "id": "ixPSjYwvoYw5",
        "outputId": "a21c186f-db54-4715-f8a4-a6ab3d44caad"
      },
      "execution_count": 47,
      "outputs": [
        {
          "output_type": "execute_result",
          "data": {
            "text/plain": [
              "5.5"
            ]
          },
          "metadata": {},
          "execution_count": 47
        }
      ]
    },
    {
      "cell_type": "code",
      "source": [
        "import numpy as np\n",
        "print(np.mean(t))\n",
        "print(np.median(t))"
      ],
      "metadata": {
        "colab": {
          "base_uri": "https://localhost:8080/"
        },
        "id": "d4uKS0Zcoby1",
        "outputId": "1752a63d-2fb0-4975-c8f3-f74408b1717f"
      },
      "execution_count": 48,
      "outputs": [
        {
          "output_type": "stream",
          "name": "stdout",
          "text": [
            "5.5\n",
            "5.5\n"
          ]
        }
      ]
    },
    {
      "cell_type": "code",
      "source": [
        "print(np.sort(t))"
      ],
      "metadata": {
        "colab": {
          "base_uri": "https://localhost:8080/"
        },
        "id": "UB_GwcUwsA10",
        "outputId": "ae9d2b6a-533e-42cd-8d33-12b7e916956b"
      },
      "execution_count": 49,
      "outputs": [
        {
          "output_type": "stream",
          "name": "stdout",
          "text": [
            "[ 1  2  3  4  5  6  7  8  9 10]\n"
          ]
        }
      ]
    },
    {
      "cell_type": "code",
      "source": [
        "b=np.unique(t)\n",
        "b"
      ],
      "metadata": {
        "colab": {
          "base_uri": "https://localhost:8080/"
        },
        "id": "3B0xmWdfsgCs",
        "outputId": "e3106567-1755-4d9f-e753-5b381dc3dcbb"
      },
      "execution_count": 50,
      "outputs": [
        {
          "output_type": "execute_result",
          "data": {
            "text/plain": [
              "array([ 1,  2,  3,  4,  5,  6,  7,  8,  9, 10])"
            ]
          },
          "metadata": {},
          "execution_count": 50
        }
      ]
    },
    {
      "cell_type": "code",
      "source": [
        "a=[1,2,3,4,5,6,7,8,9,10]\n",
        "b=[11,12,13,14,15,16,17,18,19,20]"
      ],
      "metadata": {
        "id": "cF1iToLGtfa6"
      },
      "execution_count": 52,
      "outputs": []
    },
    {
      "cell_type": "code",
      "source": [
        "## Convert a dictionary to list\n",
        "pd.DataFrame([l])"
      ],
      "metadata": {
        "colab": {
          "base_uri": "https://localhost:8080/",
          "height": 80
        },
        "id": "uoWot2eXueIn",
        "outputId": "583e64cd-a2c8-4a74-e72e-ff289199365d"
      },
      "execution_count": 53,
      "outputs": [
        {
          "output_type": "execute_result",
          "data": {
            "text/plain": [
              "   0  1  2  3  4  5  6  7  8   9\n",
              "0  1  2  3  4  5  6  7  8  9  10"
            ],
            "text/html": [
              "\n",
              "  <div id=\"df-4a37d519-00e7-43a0-b18b-eb4a2c96deb0\">\n",
              "    <div class=\"colab-df-container\">\n",
              "      <div>\n",
              "<style scoped>\n",
              "    .dataframe tbody tr th:only-of-type {\n",
              "        vertical-align: middle;\n",
              "    }\n",
              "\n",
              "    .dataframe tbody tr th {\n",
              "        vertical-align: top;\n",
              "    }\n",
              "\n",
              "    .dataframe thead th {\n",
              "        text-align: right;\n",
              "    }\n",
              "</style>\n",
              "<table border=\"1\" class=\"dataframe\">\n",
              "  <thead>\n",
              "    <tr style=\"text-align: right;\">\n",
              "      <th></th>\n",
              "      <th>0</th>\n",
              "      <th>1</th>\n",
              "      <th>2</th>\n",
              "      <th>3</th>\n",
              "      <th>4</th>\n",
              "      <th>5</th>\n",
              "      <th>6</th>\n",
              "      <th>7</th>\n",
              "      <th>8</th>\n",
              "      <th>9</th>\n",
              "    </tr>\n",
              "  </thead>\n",
              "  <tbody>\n",
              "    <tr>\n",
              "      <th>0</th>\n",
              "      <td>1</td>\n",
              "      <td>2</td>\n",
              "      <td>3</td>\n",
              "      <td>4</td>\n",
              "      <td>5</td>\n",
              "      <td>6</td>\n",
              "      <td>7</td>\n",
              "      <td>8</td>\n",
              "      <td>9</td>\n",
              "      <td>10</td>\n",
              "    </tr>\n",
              "  </tbody>\n",
              "</table>\n",
              "</div>\n",
              "      <button class=\"colab-df-convert\" onclick=\"convertToInteractive('df-4a37d519-00e7-43a0-b18b-eb4a2c96deb0')\"\n",
              "              title=\"Convert this dataframe to an interactive table.\"\n",
              "              style=\"display:none;\">\n",
              "        \n",
              "  <svg xmlns=\"http://www.w3.org/2000/svg\" height=\"24px\"viewBox=\"0 0 24 24\"\n",
              "       width=\"24px\">\n",
              "    <path d=\"M0 0h24v24H0V0z\" fill=\"none\"/>\n",
              "    <path d=\"M18.56 5.44l.94 2.06.94-2.06 2.06-.94-2.06-.94-.94-2.06-.94 2.06-2.06.94zm-11 1L8.5 8.5l.94-2.06 2.06-.94-2.06-.94L8.5 2.5l-.94 2.06-2.06.94zm10 10l.94 2.06.94-2.06 2.06-.94-2.06-.94-.94-2.06-.94 2.06-2.06.94z\"/><path d=\"M17.41 7.96l-1.37-1.37c-.4-.4-.92-.59-1.43-.59-.52 0-1.04.2-1.43.59L10.3 9.45l-7.72 7.72c-.78.78-.78 2.05 0 2.83L4 21.41c.39.39.9.59 1.41.59.51 0 1.02-.2 1.41-.59l7.78-7.78 2.81-2.81c.8-.78.8-2.07 0-2.86zM5.41 20L4 18.59l7.72-7.72 1.47 1.35L5.41 20z\"/>\n",
              "  </svg>\n",
              "      </button>\n",
              "      \n",
              "  <style>\n",
              "    .colab-df-container {\n",
              "      display:flex;\n",
              "      flex-wrap:wrap;\n",
              "      gap: 12px;\n",
              "    }\n",
              "\n",
              "    .colab-df-convert {\n",
              "      background-color: #E8F0FE;\n",
              "      border: none;\n",
              "      border-radius: 50%;\n",
              "      cursor: pointer;\n",
              "      display: none;\n",
              "      fill: #1967D2;\n",
              "      height: 32px;\n",
              "      padding: 0 0 0 0;\n",
              "      width: 32px;\n",
              "    }\n",
              "\n",
              "    .colab-df-convert:hover {\n",
              "      background-color: #E2EBFA;\n",
              "      box-shadow: 0px 1px 2px rgba(60, 64, 67, 0.3), 0px 1px 3px 1px rgba(60, 64, 67, 0.15);\n",
              "      fill: #174EA6;\n",
              "    }\n",
              "\n",
              "    [theme=dark] .colab-df-convert {\n",
              "      background-color: #3B4455;\n",
              "      fill: #D2E3FC;\n",
              "    }\n",
              "\n",
              "    [theme=dark] .colab-df-convert:hover {\n",
              "      background-color: #434B5C;\n",
              "      box-shadow: 0px 1px 3px 1px rgba(0, 0, 0, 0.15);\n",
              "      filter: drop-shadow(0px 1px 2px rgba(0, 0, 0, 0.3));\n",
              "      fill: #FFFFFF;\n",
              "    }\n",
              "  </style>\n",
              "\n",
              "      <script>\n",
              "        const buttonEl =\n",
              "          document.querySelector('#df-4a37d519-00e7-43a0-b18b-eb4a2c96deb0 button.colab-df-convert');\n",
              "        buttonEl.style.display =\n",
              "          google.colab.kernel.accessAllowed ? 'block' : 'none';\n",
              "\n",
              "        async function convertToInteractive(key) {\n",
              "          const element = document.querySelector('#df-4a37d519-00e7-43a0-b18b-eb4a2c96deb0');\n",
              "          const dataTable =\n",
              "            await google.colab.kernel.invokeFunction('convertToInteractive',\n",
              "                                                     [key], {});\n",
              "          if (!dataTable) return;\n",
              "\n",
              "          const docLinkHtml = 'Like what you see? Visit the ' +\n",
              "            '<a target=\"_blank\" href=https://colab.research.google.com/notebooks/data_table.ipynb>data table notebook</a>'\n",
              "            + ' to learn more about interactive tables.';\n",
              "          element.innerHTML = '';\n",
              "          dataTable['output_type'] = 'display_data';\n",
              "          await google.colab.output.renderOutput(dataTable, element);\n",
              "          const docLink = document.createElement('div');\n",
              "          docLink.innerHTML = docLinkHtml;\n",
              "          element.appendChild(docLink);\n",
              "        }\n",
              "      </script>\n",
              "    </div>\n",
              "  </div>\n",
              "  "
            ]
          },
          "metadata": {},
          "execution_count": 53
        }
      ]
    },
    {
      "cell_type": "code",
      "source": [
        "m=[\"Prudhvi\"]\n",
        "n=[\"raj\"]"
      ],
      "metadata": {
        "id": "fzx47j92ud9k"
      },
      "execution_count": 54,
      "outputs": []
    },
    {
      "cell_type": "code",
      "source": [
        "pd.DataFrame({\"P1\": m , \"P2\": n})"
      ],
      "metadata": {
        "colab": {
          "base_uri": "https://localhost:8080/",
          "height": 80
        },
        "id": "J_s2eutcudf_",
        "outputId": "b85ddcf5-8dcb-4d34-8d1d-47847d8c6a38"
      },
      "execution_count": 55,
      "outputs": [
        {
          "output_type": "execute_result",
          "data": {
            "text/plain": [
              "        P1   P2\n",
              "0  Prudhvi  raj"
            ],
            "text/html": [
              "\n",
              "  <div id=\"df-021f69e0-7b13-4d83-8b9c-59c8ad7f6e43\">\n",
              "    <div class=\"colab-df-container\">\n",
              "      <div>\n",
              "<style scoped>\n",
              "    .dataframe tbody tr th:only-of-type {\n",
              "        vertical-align: middle;\n",
              "    }\n",
              "\n",
              "    .dataframe tbody tr th {\n",
              "        vertical-align: top;\n",
              "    }\n",
              "\n",
              "    .dataframe thead th {\n",
              "        text-align: right;\n",
              "    }\n",
              "</style>\n",
              "<table border=\"1\" class=\"dataframe\">\n",
              "  <thead>\n",
              "    <tr style=\"text-align: right;\">\n",
              "      <th></th>\n",
              "      <th>P1</th>\n",
              "      <th>P2</th>\n",
              "    </tr>\n",
              "  </thead>\n",
              "  <tbody>\n",
              "    <tr>\n",
              "      <th>0</th>\n",
              "      <td>Prudhvi</td>\n",
              "      <td>raj</td>\n",
              "    </tr>\n",
              "  </tbody>\n",
              "</table>\n",
              "</div>\n",
              "      <button class=\"colab-df-convert\" onclick=\"convertToInteractive('df-021f69e0-7b13-4d83-8b9c-59c8ad7f6e43')\"\n",
              "              title=\"Convert this dataframe to an interactive table.\"\n",
              "              style=\"display:none;\">\n",
              "        \n",
              "  <svg xmlns=\"http://www.w3.org/2000/svg\" height=\"24px\"viewBox=\"0 0 24 24\"\n",
              "       width=\"24px\">\n",
              "    <path d=\"M0 0h24v24H0V0z\" fill=\"none\"/>\n",
              "    <path d=\"M18.56 5.44l.94 2.06.94-2.06 2.06-.94-2.06-.94-.94-2.06-.94 2.06-2.06.94zm-11 1L8.5 8.5l.94-2.06 2.06-.94-2.06-.94L8.5 2.5l-.94 2.06-2.06.94zm10 10l.94 2.06.94-2.06 2.06-.94-2.06-.94-.94-2.06-.94 2.06-2.06.94z\"/><path d=\"M17.41 7.96l-1.37-1.37c-.4-.4-.92-.59-1.43-.59-.52 0-1.04.2-1.43.59L10.3 9.45l-7.72 7.72c-.78.78-.78 2.05 0 2.83L4 21.41c.39.39.9.59 1.41.59.51 0 1.02-.2 1.41-.59l7.78-7.78 2.81-2.81c.8-.78.8-2.07 0-2.86zM5.41 20L4 18.59l7.72-7.72 1.47 1.35L5.41 20z\"/>\n",
              "  </svg>\n",
              "      </button>\n",
              "      \n",
              "  <style>\n",
              "    .colab-df-container {\n",
              "      display:flex;\n",
              "      flex-wrap:wrap;\n",
              "      gap: 12px;\n",
              "    }\n",
              "\n",
              "    .colab-df-convert {\n",
              "      background-color: #E8F0FE;\n",
              "      border: none;\n",
              "      border-radius: 50%;\n",
              "      cursor: pointer;\n",
              "      display: none;\n",
              "      fill: #1967D2;\n",
              "      height: 32px;\n",
              "      padding: 0 0 0 0;\n",
              "      width: 32px;\n",
              "    }\n",
              "\n",
              "    .colab-df-convert:hover {\n",
              "      background-color: #E2EBFA;\n",
              "      box-shadow: 0px 1px 2px rgba(60, 64, 67, 0.3), 0px 1px 3px 1px rgba(60, 64, 67, 0.15);\n",
              "      fill: #174EA6;\n",
              "    }\n",
              "\n",
              "    [theme=dark] .colab-df-convert {\n",
              "      background-color: #3B4455;\n",
              "      fill: #D2E3FC;\n",
              "    }\n",
              "\n",
              "    [theme=dark] .colab-df-convert:hover {\n",
              "      background-color: #434B5C;\n",
              "      box-shadow: 0px 1px 3px 1px rgba(0, 0, 0, 0.15);\n",
              "      filter: drop-shadow(0px 1px 2px rgba(0, 0, 0, 0.3));\n",
              "      fill: #FFFFFF;\n",
              "    }\n",
              "  </style>\n",
              "\n",
              "      <script>\n",
              "        const buttonEl =\n",
              "          document.querySelector('#df-021f69e0-7b13-4d83-8b9c-59c8ad7f6e43 button.colab-df-convert');\n",
              "        buttonEl.style.display =\n",
              "          google.colab.kernel.accessAllowed ? 'block' : 'none';\n",
              "\n",
              "        async function convertToInteractive(key) {\n",
              "          const element = document.querySelector('#df-021f69e0-7b13-4d83-8b9c-59c8ad7f6e43');\n",
              "          const dataTable =\n",
              "            await google.colab.kernel.invokeFunction('convertToInteractive',\n",
              "                                                     [key], {});\n",
              "          if (!dataTable) return;\n",
              "\n",
              "          const docLinkHtml = 'Like what you see? Visit the ' +\n",
              "            '<a target=\"_blank\" href=https://colab.research.google.com/notebooks/data_table.ipynb>data table notebook</a>'\n",
              "            + ' to learn more about interactive tables.';\n",
              "          element.innerHTML = '';\n",
              "          dataTable['output_type'] = 'display_data';\n",
              "          await google.colab.output.renderOutput(dataTable, element);\n",
              "          const docLink = document.createElement('div');\n",
              "          docLink.innerHTML = docLinkHtml;\n",
              "          element.appendChild(docLink);\n",
              "        }\n",
              "      </script>\n",
              "    </div>\n",
              "  </div>\n",
              "  "
            ]
          },
          "metadata": {},
          "execution_count": 55
        }
      ]
    },
    {
      "cell_type": "code",
      "source": [
        "import pandas as pd\n",
        "df=pd.DataFrame(r)\n",
        "df"
      ],
      "metadata": {
        "colab": {
          "base_uri": "https://localhost:8080/",
          "height": 676
        },
        "id": "HHJJTtA4ops1",
        "outputId": "7aa53d87-5c8a-415a-9c26-9297a7cf9094"
      },
      "execution_count": 56,
      "outputs": [
        {
          "output_type": "execute_result",
          "data": {
            "text/plain": [
              "    0\n",
              "0   1\n",
              "1   2\n",
              "2   2\n",
              "3   3\n",
              "4   3\n",
              "5   4\n",
              "6   4\n",
              "7   4\n",
              "8   5\n",
              "9   5\n",
              "10  6\n",
              "11  6\n",
              "12  6\n",
              "13  7\n",
              "14  7\n",
              "15  7\n",
              "16  7\n",
              "17  8\n",
              "18  9\n",
              "19  9"
            ],
            "text/html": [
              "\n",
              "  <div id=\"df-37c86d56-1e98-4e6a-85e4-e428c513076c\">\n",
              "    <div class=\"colab-df-container\">\n",
              "      <div>\n",
              "<style scoped>\n",
              "    .dataframe tbody tr th:only-of-type {\n",
              "        vertical-align: middle;\n",
              "    }\n",
              "\n",
              "    .dataframe tbody tr th {\n",
              "        vertical-align: top;\n",
              "    }\n",
              "\n",
              "    .dataframe thead th {\n",
              "        text-align: right;\n",
              "    }\n",
              "</style>\n",
              "<table border=\"1\" class=\"dataframe\">\n",
              "  <thead>\n",
              "    <tr style=\"text-align: right;\">\n",
              "      <th></th>\n",
              "      <th>0</th>\n",
              "    </tr>\n",
              "  </thead>\n",
              "  <tbody>\n",
              "    <tr>\n",
              "      <th>0</th>\n",
              "      <td>1</td>\n",
              "    </tr>\n",
              "    <tr>\n",
              "      <th>1</th>\n",
              "      <td>2</td>\n",
              "    </tr>\n",
              "    <tr>\n",
              "      <th>2</th>\n",
              "      <td>2</td>\n",
              "    </tr>\n",
              "    <tr>\n",
              "      <th>3</th>\n",
              "      <td>3</td>\n",
              "    </tr>\n",
              "    <tr>\n",
              "      <th>4</th>\n",
              "      <td>3</td>\n",
              "    </tr>\n",
              "    <tr>\n",
              "      <th>5</th>\n",
              "      <td>4</td>\n",
              "    </tr>\n",
              "    <tr>\n",
              "      <th>6</th>\n",
              "      <td>4</td>\n",
              "    </tr>\n",
              "    <tr>\n",
              "      <th>7</th>\n",
              "      <td>4</td>\n",
              "    </tr>\n",
              "    <tr>\n",
              "      <th>8</th>\n",
              "      <td>5</td>\n",
              "    </tr>\n",
              "    <tr>\n",
              "      <th>9</th>\n",
              "      <td>5</td>\n",
              "    </tr>\n",
              "    <tr>\n",
              "      <th>10</th>\n",
              "      <td>6</td>\n",
              "    </tr>\n",
              "    <tr>\n",
              "      <th>11</th>\n",
              "      <td>6</td>\n",
              "    </tr>\n",
              "    <tr>\n",
              "      <th>12</th>\n",
              "      <td>6</td>\n",
              "    </tr>\n",
              "    <tr>\n",
              "      <th>13</th>\n",
              "      <td>7</td>\n",
              "    </tr>\n",
              "    <tr>\n",
              "      <th>14</th>\n",
              "      <td>7</td>\n",
              "    </tr>\n",
              "    <tr>\n",
              "      <th>15</th>\n",
              "      <td>7</td>\n",
              "    </tr>\n",
              "    <tr>\n",
              "      <th>16</th>\n",
              "      <td>7</td>\n",
              "    </tr>\n",
              "    <tr>\n",
              "      <th>17</th>\n",
              "      <td>8</td>\n",
              "    </tr>\n",
              "    <tr>\n",
              "      <th>18</th>\n",
              "      <td>9</td>\n",
              "    </tr>\n",
              "    <tr>\n",
              "      <th>19</th>\n",
              "      <td>9</td>\n",
              "    </tr>\n",
              "  </tbody>\n",
              "</table>\n",
              "</div>\n",
              "      <button class=\"colab-df-convert\" onclick=\"convertToInteractive('df-37c86d56-1e98-4e6a-85e4-e428c513076c')\"\n",
              "              title=\"Convert this dataframe to an interactive table.\"\n",
              "              style=\"display:none;\">\n",
              "        \n",
              "  <svg xmlns=\"http://www.w3.org/2000/svg\" height=\"24px\"viewBox=\"0 0 24 24\"\n",
              "       width=\"24px\">\n",
              "    <path d=\"M0 0h24v24H0V0z\" fill=\"none\"/>\n",
              "    <path d=\"M18.56 5.44l.94 2.06.94-2.06 2.06-.94-2.06-.94-.94-2.06-.94 2.06-2.06.94zm-11 1L8.5 8.5l.94-2.06 2.06-.94-2.06-.94L8.5 2.5l-.94 2.06-2.06.94zm10 10l.94 2.06.94-2.06 2.06-.94-2.06-.94-.94-2.06-.94 2.06-2.06.94z\"/><path d=\"M17.41 7.96l-1.37-1.37c-.4-.4-.92-.59-1.43-.59-.52 0-1.04.2-1.43.59L10.3 9.45l-7.72 7.72c-.78.78-.78 2.05 0 2.83L4 21.41c.39.39.9.59 1.41.59.51 0 1.02-.2 1.41-.59l7.78-7.78 2.81-2.81c.8-.78.8-2.07 0-2.86zM5.41 20L4 18.59l7.72-7.72 1.47 1.35L5.41 20z\"/>\n",
              "  </svg>\n",
              "      </button>\n",
              "      \n",
              "  <style>\n",
              "    .colab-df-container {\n",
              "      display:flex;\n",
              "      flex-wrap:wrap;\n",
              "      gap: 12px;\n",
              "    }\n",
              "\n",
              "    .colab-df-convert {\n",
              "      background-color: #E8F0FE;\n",
              "      border: none;\n",
              "      border-radius: 50%;\n",
              "      cursor: pointer;\n",
              "      display: none;\n",
              "      fill: #1967D2;\n",
              "      height: 32px;\n",
              "      padding: 0 0 0 0;\n",
              "      width: 32px;\n",
              "    }\n",
              "\n",
              "    .colab-df-convert:hover {\n",
              "      background-color: #E2EBFA;\n",
              "      box-shadow: 0px 1px 2px rgba(60, 64, 67, 0.3), 0px 1px 3px 1px rgba(60, 64, 67, 0.15);\n",
              "      fill: #174EA6;\n",
              "    }\n",
              "\n",
              "    [theme=dark] .colab-df-convert {\n",
              "      background-color: #3B4455;\n",
              "      fill: #D2E3FC;\n",
              "    }\n",
              "\n",
              "    [theme=dark] .colab-df-convert:hover {\n",
              "      background-color: #434B5C;\n",
              "      box-shadow: 0px 1px 3px 1px rgba(0, 0, 0, 0.15);\n",
              "      filter: drop-shadow(0px 1px 2px rgba(0, 0, 0, 0.3));\n",
              "      fill: #FFFFFF;\n",
              "    }\n",
              "  </style>\n",
              "\n",
              "      <script>\n",
              "        const buttonEl =\n",
              "          document.querySelector('#df-37c86d56-1e98-4e6a-85e4-e428c513076c button.colab-df-convert');\n",
              "        buttonEl.style.display =\n",
              "          google.colab.kernel.accessAllowed ? 'block' : 'none';\n",
              "\n",
              "        async function convertToInteractive(key) {\n",
              "          const element = document.querySelector('#df-37c86d56-1e98-4e6a-85e4-e428c513076c');\n",
              "          const dataTable =\n",
              "            await google.colab.kernel.invokeFunction('convertToInteractive',\n",
              "                                                     [key], {});\n",
              "          if (!dataTable) return;\n",
              "\n",
              "          const docLinkHtml = 'Like what you see? Visit the ' +\n",
              "            '<a target=\"_blank\" href=https://colab.research.google.com/notebooks/data_table.ipynb>data table notebook</a>'\n",
              "            + ' to learn more about interactive tables.';\n",
              "          element.innerHTML = '';\n",
              "          dataTable['output_type'] = 'display_data';\n",
              "          await google.colab.output.renderOutput(dataTable, element);\n",
              "          const docLink = document.createElement('div');\n",
              "          docLink.innerHTML = docLinkHtml;\n",
              "          element.appendChild(docLink);\n",
              "        }\n",
              "      </script>\n",
              "    </div>\n",
              "  </div>\n",
              "  "
            ]
          },
          "metadata": {},
          "execution_count": 56
        }
      ]
    },
    {
      "cell_type": "code",
      "source": [
        "print(mean(t))\n",
        "print"
      ],
      "metadata": {
        "colab": {
          "base_uri": "https://localhost:8080/"
        },
        "id": "4pnz8Id6pR0D",
        "outputId": "7f00c1a5-fc2a-45d6-d3b3-429b0978b457"
      },
      "execution_count": 57,
      "outputs": [
        {
          "output_type": "stream",
          "name": "stdout",
          "text": [
            "5.5\n"
          ]
        },
        {
          "output_type": "execute_result",
          "data": {
            "text/plain": [
              "<function print>"
            ]
          },
          "metadata": {},
          "execution_count": 57
        }
      ]
    },
    {
      "cell_type": "code",
      "source": [
        "print(df.mean())\n",
        "print(df.median())\n",
        "print(df.mode())"
      ],
      "metadata": {
        "colab": {
          "base_uri": "https://localhost:8080/"
        },
        "id": "5biBjSrdoyfX",
        "outputId": "450a583b-49d8-4a91-9ba1-d3ef88cd7139"
      },
      "execution_count": 58,
      "outputs": [
        {
          "output_type": "stream",
          "name": "stdout",
          "text": [
            "0    5.25\n",
            "dtype: float64\n",
            "0    5.5\n",
            "dtype: float64\n",
            "   0\n",
            "0  7\n"
          ]
        }
      ]
    },
    {
      "cell_type": "code",
      "source": [
        "a, b, c = 0, 1, 100\n",
        "while a < c:\n",
        "    print(b)\n",
        "    a, b = b, a+b"
      ],
      "metadata": {
        "id": "AD4XaxwhxLUd",
        "colab": {
          "base_uri": "https://localhost:8080/"
        },
        "outputId": "7f5a75b0-cd67-470d-dabf-061d73d1ec21"
      },
      "execution_count": 60,
      "outputs": [
        {
          "output_type": "stream",
          "name": "stdout",
          "text": [
            "1\n",
            "1\n",
            "2\n",
            "3\n",
            "5\n",
            "8\n",
            "13\n",
            "21\n",
            "34\n",
            "55\n",
            "89\n",
            "144\n"
          ]
        }
      ]
    },
    {
      "cell_type": "code",
      "source": [
        "n=10\n",
        "a=0\n",
        "b=1\n",
        "sum=0\n",
        "count=1\n",
        "while(count<=n):\n",
        "  count+=1\n",
        "  print(a)\n",
        "  sum=a+b\n",
        "  a=b\n",
        "  b=sum"
      ],
      "metadata": {
        "colab": {
          "base_uri": "https://localhost:8080/"
        },
        "id": "LWQcviUExLS1",
        "outputId": "dd9ab849-2ac1-4a2d-ecea-59808d24c4de"
      },
      "execution_count": 61,
      "outputs": [
        {
          "output_type": "stream",
          "name": "stdout",
          "text": [
            "0\n",
            "1\n",
            "1\n",
            "2\n",
            "3\n",
            "5\n",
            "8\n",
            "13\n",
            "21\n",
            "34\n"
          ]
        }
      ]
    },
    {
      "cell_type": "code",
      "source": [
        "#initialize the list with starting elements: 0, 1\n",
        "f = [0,1]\n",
        "for i in range(2, 10):\n",
        "    #next elment in series = sum of its previous two numbers\n",
        "        ne = f[i-1] + f[i-2]\n",
        "  \t#append the element to the series\n",
        "        f.append(ne)\n",
        "\n",
        "print(f)"
      ],
      "metadata": {
        "colab": {
          "base_uri": "https://localhost:8080/"
        },
        "id": "DU_hUsMKxLIU",
        "outputId": "2705f81d-f3f0-42fe-e6f6-6b2182566097"
      },
      "execution_count": 62,
      "outputs": [
        {
          "output_type": "stream",
          "name": "stdout",
          "text": [
            "[0, 1, 1, 2, 3, 5, 8, 13, 21, 34]\n"
          ]
        }
      ]
    },
    {
      "cell_type": "code",
      "source": [
        "## Fibonacci Series\n",
        "f=[0,1]\n",
        "for i in range(2,21):\n",
        "  n = f[i-1] + f[i-2]\n",
        "  f.append(n)\n",
        "print(f)"
      ],
      "metadata": {
        "colab": {
          "base_uri": "https://localhost:8080/"
        },
        "id": "i7WCEymwEvOO",
        "outputId": "a3a66e54-be65-419e-8371-7a831731cb27"
      },
      "execution_count": 63,
      "outputs": [
        {
          "output_type": "stream",
          "name": "stdout",
          "text": [
            "[0, 1, 1, 2, 3, 5, 8, 13, 21, 34, 55, 89, 144, 233, 377, 610, 987, 1597, 2584, 4181, 6765]\n"
          ]
        }
      ]
    },
    {
      "cell_type": "code",
      "source": [
        "a, b, maxA = 0, 1, 100\n",
        "while a < maxA:\n",
        "    print(a, end=',')\n",
        "    a, b = b, a+b"
      ],
      "metadata": {
        "colab": {
          "base_uri": "https://localhost:8080/"
        },
        "id": "QY4l_zYxxLFG",
        "outputId": "99bd5a2b-10f0-43c8-dfbc-68b8a9464bb0"
      },
      "execution_count": 64,
      "outputs": [
        {
          "output_type": "stream",
          "name": "stdout",
          "text": [
            "0,1,1,2,3,5,8,13,21,34,55,89,"
          ]
        }
      ]
    },
    {
      "cell_type": "code",
      "source": [
        "# Python program to calculate the length of the string\n",
        "n=\"Prudhvi Raj Dowluri\"\n",
        "# print(len(n))\n",
        "def String_length(n):\n",
        "  c=0\n",
        "  for i in n:\n",
        "    c=c+1\n",
        "  return c\n",
        "print(String_length(n))"
      ],
      "metadata": {
        "colab": {
          "base_uri": "https://localhost:8080/"
        },
        "id": "fgQ2bucoxLDG",
        "outputId": "b0f10e81-a860-47ce-c8b6-9163e90b960e"
      },
      "execution_count": 65,
      "outputs": [
        {
          "output_type": "stream",
          "name": "stdout",
          "text": [
            "19\n"
          ]
        }
      ]
    },
    {
      "cell_type": "code",
      "source": [
        "def l():\n",
        "  c=0\n",
        "  for i in range(1,11):\n",
        "    c=c+i\n",
        "  return c\n",
        "l()"
      ],
      "metadata": {
        "colab": {
          "base_uri": "https://localhost:8080/"
        },
        "id": "pnOxSyYlGbWw",
        "outputId": "226cacf5-1b24-45b8-e206-4dc81df7f3e5"
      },
      "execution_count": 66,
      "outputs": [
        {
          "output_type": "execute_result",
          "data": {
            "text/plain": [
              "55"
            ]
          },
          "metadata": {},
          "execution_count": 66
        }
      ]
    },
    {
      "cell_type": "code",
      "source": [
        "# Python function that accepts a string and calculate the numbers in upper and lower case latters\n",
        "n=\"Prudhvi Raj Dowluri\"\n"
      ],
      "metadata": {
        "id": "l0unTP8kxK_6"
      },
      "execution_count": 67,
      "outputs": []
    },
    {
      "cell_type": "code",
      "source": [
        "# Access both key and values using items() from dictionary\n",
        "a={'Name':'Prudhvi','Batch':'123R'}\n",
        "for i,j in a.items():\n",
        "  print(i,j)"
      ],
      "metadata": {
        "colab": {
          "base_uri": "https://localhost:8080/"
        },
        "id": "dbraj76ExK9w",
        "outputId": "4f16d243-a7d2-4539-8a29-e2e99ecf7164"
      },
      "execution_count": 68,
      "outputs": [
        {
          "output_type": "stream",
          "name": "stdout",
          "text": [
            "Name Prudhvi\n",
            "Batch 123R\n"
          ]
        }
      ]
    },
    {
      "cell_type": "code",
      "source": [
        "def average(numList):\n",
        "    total = 0\n",
        "    count = 0\n",
        "    for num in numList:\n",
        "        total += num\n",
        "        count += 1\n",
        "\n",
        "    return total / count"
      ],
      "metadata": {
        "id": "HGqZsi8xxK6-"
      },
      "execution_count": 69,
      "outputs": []
    },
    {
      "cell_type": "code",
      "source": [
        "def m():\n",
        "  t=0\n",
        "  c=0\n",
        "  for i in range(1,11):\n",
        "    t += i\n",
        "    c += 1\n",
        "  return t/c\n",
        "m()"
      ],
      "metadata": {
        "colab": {
          "base_uri": "https://localhost:8080/"
        },
        "id": "tCDk1qrpNpHK",
        "outputId": "5728326a-7ebd-40f7-af83-7681e49795c4"
      },
      "execution_count": 70,
      "outputs": [
        {
          "output_type": "execute_result",
          "data": {
            "text/plain": [
              "5.5"
            ]
          },
          "metadata": {},
          "execution_count": 70
        }
      ]
    },
    {
      "cell_type": "code",
      "source": [
        "def y():\n",
        "  t=2.0\n",
        "  c=0\n",
        "  for i in range(1,21):\n",
        "    t += i\n",
        "    c += 1\n",
        "  return t/c\n",
        "y()"
      ],
      "metadata": {
        "colab": {
          "base_uri": "https://localhost:8080/"
        },
        "id": "QZJPBL6sEXb3",
        "outputId": "ae8a23ff-da1c-4892-93f5-a421d7fdfb38"
      },
      "execution_count": 71,
      "outputs": [
        {
          "output_type": "execute_result",
          "data": {
            "text/plain": [
              "10.6"
            ]
          },
          "metadata": {},
          "execution_count": 71
        }
      ]
    },
    {
      "cell_type": "code",
      "source": [
        "numList=[1,2,3,4,5,6,7,8,9,10]\n",
        "print(average(numList))"
      ],
      "metadata": {
        "colab": {
          "base_uri": "https://localhost:8080/"
        },
        "id": "_gERgaeNxK4X",
        "outputId": "55b1989f-9733-4c3b-8fe9-3ea0299b02e1"
      },
      "execution_count": 72,
      "outputs": [
        {
          "output_type": "stream",
          "name": "stdout",
          "text": [
            "5.5\n"
          ]
        }
      ]
    },
    {
      "cell_type": "code",
      "source": [
        "n=[1,2,3,4,5,6,7,8,9,10]"
      ],
      "metadata": {
        "id": "lNerC8ZMpfRR"
      },
      "execution_count": 73,
      "outputs": []
    },
    {
      "cell_type": "code",
      "source": [
        "def s(n):\n",
        "  c=0\n",
        "  for i in n:\n",
        "    c+=i\n",
        "  return c\n",
        "s(n)"
      ],
      "metadata": {
        "colab": {
          "base_uri": "https://localhost:8080/"
        },
        "id": "hNAa3vi5o7NV",
        "outputId": "d5a7ec38-a070-46b0-cb46-0386425bdf35"
      },
      "execution_count": 74,
      "outputs": [
        {
          "output_type": "execute_result",
          "data": {
            "text/plain": [
              "55"
            ]
          },
          "metadata": {},
          "execution_count": 74
        }
      ]
    },
    {
      "cell_type": "code",
      "source": [
        "# Check the first and last number of a list is the same\n",
        "n=[10,20,30,40,50,60]\n",
        "def first_last(n):\n",
        "  f=n[0]\n",
        "  s=n[-1]\n",
        "  print(f,s)\n",
        "first_last(n)"
      ],
      "metadata": {
        "colab": {
          "base_uri": "https://localhost:8080/"
        },
        "id": "SkED0SuGxK1s",
        "outputId": "1f809489-beaf-4a3e-9644-7cfb9e46f1ed"
      },
      "execution_count": 75,
      "outputs": [
        {
          "output_type": "stream",
          "name": "stdout",
          "text": [
            "10 60\n"
          ]
        }
      ]
    },
    {
      "cell_type": "code",
      "source": [
        "def median(numList):\n",
        "    total = 0\n",
        "    count = 0\n",
        "    for num in numList:\n",
        "        total += num\n",
        "        count += 1\n",
        "\n",
        "    return total / count"
      ],
      "metadata": {
        "id": "-lAU1iUMmFNX"
      },
      "execution_count": 76,
      "outputs": []
    },
    {
      "cell_type": "code",
      "source": [
        "a=[1,2,'a+3','3+2t']\n",
        "a"
      ],
      "metadata": {
        "colab": {
          "base_uri": "https://localhost:8080/"
        },
        "id": "G2CcVlQnmFPT",
        "outputId": "d5d18010-3c90-4760-9454-a954c946df00"
      },
      "execution_count": 77,
      "outputs": [
        {
          "output_type": "execute_result",
          "data": {
            "text/plain": [
              "[1, 2, 'a+3', '3+2t']"
            ]
          },
          "metadata": {},
          "execution_count": 77
        }
      ]
    },
    {
      "cell_type": "code",
      "source": [
        "a='2.0K'\n",
        "type(a)"
      ],
      "metadata": {
        "colab": {
          "base_uri": "https://localhost:8080/"
        },
        "id": "8H8SkfPumFSU",
        "outputId": "907779e1-91cc-431e-86d6-c76835a4739f"
      },
      "execution_count": 78,
      "outputs": [
        {
          "output_type": "execute_result",
          "data": {
            "text/plain": [
              "str"
            ]
          },
          "metadata": {},
          "execution_count": 78
        }
      ]
    },
    {
      "cell_type": "code",
      "source": [
        "import time;\n",
        "ltime=time.localtime();\n",
        "print(time.strftime(\"%a %b %d %H:%M:%S %Z %Y\",ltime));"
      ],
      "metadata": {
        "colab": {
          "base_uri": "https://localhost:8080/"
        },
        "id": "IfPbA7MrmFbX",
        "outputId": "d0498f85-d603-4160-8f13-937abfa17a7a"
      },
      "execution_count": 79,
      "outputs": [
        {
          "output_type": "stream",
          "name": "stdout",
          "text": [
            "Mon Feb 27 18:23:37 UTC 2023\n"
          ]
        }
      ]
    },
    {
      "cell_type": "code",
      "source": [
        "a=[1,2,3,4,5]\n",
        "b=[6,7,8,9,10]"
      ],
      "metadata": {
        "id": "8-RDvkHpmFdF"
      },
      "execution_count": 80,
      "outputs": []
    },
    {
      "cell_type": "code",
      "source": [
        "a.append(b)\n",
        "print(a)"
      ],
      "metadata": {
        "colab": {
          "base_uri": "https://localhost:8080/"
        },
        "id": "StS_baCjmFgm",
        "outputId": "707b8d02-e573-4e5c-9151-839b0292498b"
      },
      "execution_count": 81,
      "outputs": [
        {
          "output_type": "stream",
          "name": "stdout",
          "text": [
            "[1, 2, 3, 4, 5, [6, 7, 8, 9, 10]]\n"
          ]
        }
      ]
    },
    {
      "cell_type": "code",
      "source": [
        "a.extend(b)\n",
        "print(a)"
      ],
      "metadata": {
        "colab": {
          "base_uri": "https://localhost:8080/"
        },
        "id": "Pk-WI1UQmFia",
        "outputId": "3ae015c8-1175-46bc-e22f-8a202fc96c80"
      },
      "execution_count": 82,
      "outputs": [
        {
          "output_type": "stream",
          "name": "stdout",
          "text": [
            "[1, 2, 3, 4, 5, [6, 7, 8, 9, 10], 6, 7, 8, 9, 10]\n"
          ]
        }
      ]
    },
    {
      "cell_type": "code",
      "source": [
        "\n",
        "del a[2]\n",
        "print(a)"
      ],
      "metadata": {
        "colab": {
          "base_uri": "https://localhost:8080/"
        },
        "id": "cePlPEeqmFlw",
        "outputId": "16e41db3-cf94-4510-df80-b16ab509d98d"
      },
      "execution_count": 83,
      "outputs": [
        {
          "output_type": "stream",
          "name": "stdout",
          "text": [
            "[1, 2, 4, 5, [6, 7, 8, 9, 10], 6, 7, 8, 9, 10]\n"
          ]
        }
      ]
    },
    {
      "cell_type": "code",
      "source": [
        "del a[1:5]\n",
        "print(a)"
      ],
      "metadata": {
        "colab": {
          "base_uri": "https://localhost:8080/"
        },
        "id": "YF8dvIE5mFnn",
        "outputId": "e49e8c3a-cff4-43fb-bac6-70e75254aaa2"
      },
      "execution_count": 84,
      "outputs": [
        {
          "output_type": "stream",
          "name": "stdout",
          "text": [
            "[1, 6, 7, 8, 9, 10]\n"
          ]
        }
      ]
    },
    {
      "cell_type": "code",
      "source": [
        "a.pop(5)"
      ],
      "metadata": {
        "colab": {
          "base_uri": "https://localhost:8080/"
        },
        "id": "DHvLIfwjmFq5",
        "outputId": "c4d51deb-3953-410b-c97c-0f716a12185a"
      },
      "execution_count": 85,
      "outputs": [
        {
          "output_type": "execute_result",
          "data": {
            "text/plain": [
              "10"
            ]
          },
          "metadata": {},
          "execution_count": 85
        }
      ]
    },
    {
      "cell_type": "code",
      "source": [
        "a"
      ],
      "metadata": {
        "colab": {
          "base_uri": "https://localhost:8080/"
        },
        "id": "CYWMNAj5mFst",
        "outputId": "0a7b92c2-2c44-4bae-f409-08f1556e5b12"
      },
      "execution_count": 86,
      "outputs": [
        {
          "output_type": "execute_result",
          "data": {
            "text/plain": [
              "[1, 6, 7, 8, 9]"
            ]
          },
          "metadata": {},
          "execution_count": 86
        }
      ]
    },
    {
      "cell_type": "code",
      "source": [
        "b=1,2,3,'RAJ'\n",
        "b"
      ],
      "metadata": {
        "colab": {
          "base_uri": "https://localhost:8080/"
        },
        "id": "1jRpZJ5ymFv2",
        "outputId": "4879532f-7e17-4b00-8582-515aed5470db"
      },
      "execution_count": 87,
      "outputs": [
        {
          "output_type": "execute_result",
          "data": {
            "text/plain": [
              "(1, 2, 3, 'RAJ')"
            ]
          },
          "metadata": {},
          "execution_count": 87
        }
      ]
    },
    {
      "cell_type": "code",
      "source": [
        "\n",
        "f=[1,2,3,'RAJ']\n",
        "f"
      ],
      "metadata": {
        "colab": {
          "base_uri": "https://localhost:8080/"
        },
        "id": "Dctev9LImF1p",
        "outputId": "a640b259-259b-47c7-d49d-cb0534823fa5"
      },
      "execution_count": 90,
      "outputs": [
        {
          "output_type": "execute_result",
          "data": {
            "text/plain": [
              "[1, 2, 3, 'RAJ']"
            ]
          },
          "metadata": {},
          "execution_count": 90
        }
      ]
    },
    {
      "cell_type": "code",
      "source": [
        "f[1]=5\n",
        "f"
      ],
      "metadata": {
        "colab": {
          "base_uri": "https://localhost:8080/"
        },
        "id": "s5_k675lxKwO",
        "outputId": "d4684ae8-1611-4b2c-f46b-635dc34f4ecb"
      },
      "execution_count": 91,
      "outputs": [
        {
          "output_type": "execute_result",
          "data": {
            "text/plain": [
              "[1, 5, 3, 'RAJ']"
            ]
          },
          "metadata": {},
          "execution_count": 91
        }
      ]
    },
    {
      "cell_type": "code",
      "source": [
        "a={'Name':'Raju','Roll No':5142}\n",
        "a"
      ],
      "metadata": {
        "colab": {
          "base_uri": "https://localhost:8080/"
        },
        "id": "ZDSTTViE0vK6",
        "outputId": "ceb8412b-7001-4b72-d906-46f322a08ae0"
      },
      "execution_count": 92,
      "outputs": [
        {
          "output_type": "execute_result",
          "data": {
            "text/plain": [
              "{'Name': 'Raju', 'Roll No': 5142}"
            ]
          },
          "metadata": {},
          "execution_count": 92
        }
      ]
    },
    {
      "cell_type": "code",
      "source": [
        "print(a['Roll No'])"
      ],
      "metadata": {
        "colab": {
          "base_uri": "https://localhost:8080/"
        },
        "id": "JawoFjlO1Laj",
        "outputId": "438c7e37-4195-48e2-c039-55716d217fcf"
      },
      "execution_count": 93,
      "outputs": [
        {
          "output_type": "stream",
          "name": "stdout",
          "text": [
            "5142\n"
          ]
        }
      ]
    },
    {
      "cell_type": "code",
      "source": [
        "print(a.keys())"
      ],
      "metadata": {
        "colab": {
          "base_uri": "https://localhost:8080/"
        },
        "id": "4XTcZID61Lct",
        "outputId": "edd86daa-cc3a-404a-82c1-027ea5590b5f"
      },
      "execution_count": 94,
      "outputs": [
        {
          "output_type": "stream",
          "name": "stdout",
          "text": [
            "dict_keys(['Name', 'Roll No'])\n"
          ]
        }
      ]
    },
    {
      "cell_type": "code",
      "source": [
        "print(a.values())"
      ],
      "metadata": {
        "colab": {
          "base_uri": "https://localhost:8080/"
        },
        "id": "AxMw9IZl1Lft",
        "outputId": "de00ccbe-c0b0-4121-af8a-ae8e4de0f3b7"
      },
      "execution_count": 95,
      "outputs": [
        {
          "output_type": "stream",
          "name": "stdout",
          "text": [
            "dict_values(['Raju', 5142])\n"
          ]
        }
      ]
    },
    {
      "cell_type": "code",
      "source": [
        "k=[1,2,3,4,\"raju\",5,6,7]\n",
        "k.reverse()"
      ],
      "metadata": {
        "id": "VYHCAkhC1LiN"
      },
      "execution_count": 96,
      "outputs": []
    },
    {
      "cell_type": "code",
      "source": [
        "k"
      ],
      "metadata": {
        "colab": {
          "base_uri": "https://localhost:8080/"
        },
        "id": "0KqJkFTC1LlS",
        "outputId": "9995c09a-523c-46e2-f99d-769206639e4f"
      },
      "execution_count": 97,
      "outputs": [
        {
          "output_type": "execute_result",
          "data": {
            "text/plain": [
              "[7, 6, 5, 'raju', 4, 3, 2, 1]"
            ]
          },
          "metadata": {},
          "execution_count": 97
        }
      ]
    },
    {
      "cell_type": "code",
      "source": [
        "k[:4]"
      ],
      "metadata": {
        "colab": {
          "base_uri": "https://localhost:8080/"
        },
        "id": "mBrEF0a31Lnv",
        "outputId": "1d3ced2d-2230-40a1-c6a6-d03c6e7f1ccf"
      },
      "execution_count": 98,
      "outputs": [
        {
          "output_type": "execute_result",
          "data": {
            "text/plain": [
              "[7, 6, 5, 'raju']"
            ]
          },
          "metadata": {},
          "execution_count": 98
        }
      ]
    },
    {
      "cell_type": "code",
      "source": [
        "a=int(input(\"Enter the numbers: \"))\n",
        "b=int(input(\"Enter the numbers: \"))\n",
        "c=int(input(\"Enter the numbers: \"))\n",
        "d=int(input(\"Enter the numbers: \"))\n",
        "\n",
        "if a>=b and a>=c and a>=d:\n",
        "  print(\"A is big:\")\n",
        "elif b>=a and b>=c and b>=d:\n",
        "  print(\" B is big\")\n",
        "elif c>=a and c>=b and c>=d:\n",
        "  print('C is big')\n",
        "else:\n",
        "  print(\"D is big\")"
      ],
      "metadata": {
        "colab": {
          "base_uri": "https://localhost:8080/"
        },
        "id": "YRHT8E3D1Lq1",
        "outputId": "74903df7-e67e-474e-b0b1-79db4f05baec"
      },
      "execution_count": 102,
      "outputs": [
        {
          "output_type": "stream",
          "name": "stdout",
          "text": [
            "Enter the numbers: 23\n",
            "Enter the numbers: 45\n",
            "Enter the numbers: 78\n",
            "Enter the numbers: 98\n",
            "D is big\n"
          ]
        }
      ]
    },
    {
      "cell_type": "code",
      "source": [
        "f=float(input(\"Enter the temprature: \"))\n",
        "c=(f-32)*(5/9)\n",
        "c"
      ],
      "metadata": {
        "id": "VTDlR1ES1Lsv",
        "colab": {
          "base_uri": "https://localhost:8080/"
        },
        "outputId": "fcb9d3f0-8a78-4405-a643-6131853315d9"
      },
      "execution_count": 104,
      "outputs": [
        {
          "name": "stdout",
          "output_type": "stream",
          "text": [
            "Enter the temprature: 34.5\n"
          ]
        },
        {
          "output_type": "execute_result",
          "data": {
            "text/plain": [
              "1.3888888888888888"
            ]
          },
          "metadata": {},
          "execution_count": 104
        }
      ]
    },
    {
      "cell_type": "code",
      "source": [
        "n=int(input(\"Enter Number: \"))\n",
        "for i in range(n):\n",
        "  for j in range(i):\n",
        "    print(\"R\",end=\"\")\n",
        "  print(\"\")"
      ],
      "metadata": {
        "id": "aNAUu_EW1Lwc",
        "colab": {
          "base_uri": "https://localhost:8080/"
        },
        "outputId": "a8a6bcb2-7e5d-4941-f77e-609c873f1f4b"
      },
      "execution_count": 105,
      "outputs": [
        {
          "output_type": "stream",
          "name": "stdout",
          "text": [
            "Enter Number: 10\n",
            "\n",
            "R\n",
            "RR\n",
            "RRR\n",
            "RRRR\n",
            "RRRRR\n",
            "RRRRRR\n",
            "RRRRRRR\n",
            "RRRRRRRR\n",
            "RRRRRRRRR\n"
          ]
        }
      ]
    },
    {
      "cell_type": "code",
      "source": [
        "n=int(input(\"Enter the Number: \"))\n",
        "def prime(n):\n",
        "  return (n % i) == 0"
      ],
      "metadata": {
        "colab": {
          "base_uri": "https://localhost:8080/"
        },
        "id": "N6M0kIj-1L2C",
        "outputId": "45ff9572-6b49-49c2-cbfc-67e132888b70"
      },
      "execution_count": 106,
      "outputs": [
        {
          "name": "stdout",
          "output_type": "stream",
          "text": [
            "Enter the Number: 10\n"
          ]
        }
      ]
    },
    {
      "cell_type": "code",
      "source": [
        "# Program to check if a number is prime or not\n",
        "# Input from the user\n",
        "num = int(input(\"Enter a number: \"))\n",
        "\n",
        "# If number is greater than 1\n",
        "if num > 1:\n",
        "   # Check if factor exist  \n",
        "   for i in range(2,num):\n",
        "       if (num % i) == 0:\n",
        "           print(num,\"is not a prime number\")\n",
        "           break\n",
        "   else:\n",
        "       print(num,\"is a prime number\")\n",
        "       \n",
        "# Else if the input number is less than or equal to 1\n",
        "else:\n",
        "   print(num,\"is not a prime number\")"
      ],
      "metadata": {
        "colab": {
          "base_uri": "https://localhost:8080/"
        },
        "id": "ve0wWm1F1L32",
        "outputId": "cc719dcf-fafa-4858-f39b-b05073a7b12f"
      },
      "execution_count": 107,
      "outputs": [
        {
          "output_type": "stream",
          "name": "stdout",
          "text": [
            "Enter a number: 45\n",
            "45 is not a prime number\n"
          ]
        }
      ]
    },
    {
      "cell_type": "code",
      "source": [
        "## 1 to 100 prime numbers!\n",
        "n=int(input(\"Enter Number: \"))\n",
        "for i in range(1, n):\n",
        "    for j in range(2, i):\n",
        "      if (i % j) == 0:\n",
        "        break\n",
        "    else:\n",
        "      print(i, end=\" \")"
      ],
      "metadata": {
        "id": "Z2-h9XQh1L7k",
        "colab": {
          "base_uri": "https://localhost:8080/"
        },
        "outputId": "406a031c-86e4-4f10-a4f5-e7faba324eed"
      },
      "execution_count": 109,
      "outputs": [
        {
          "output_type": "stream",
          "name": "stdout",
          "text": [
            "Enter Number: 34\n",
            "1 2 3 5 7 11 13 17 19 23 29 31 "
          ]
        }
      ]
    },
    {
      "cell_type": "code",
      "source": [
        "n=int(input(\"Enter Number: \"))\n",
        "for i in range(1,n):\n",
        "  if (i % n) == 0:\n",
        "    print(\"This is not Prime\")\n",
        "else:\n",
        "  print(\"This is prime\")"
      ],
      "metadata": {
        "colab": {
          "base_uri": "https://localhost:8080/"
        },
        "id": "0cMU_Es01L-d",
        "outputId": "102482e0-bcc6-4076-f01a-e7cbc2443dc4"
      },
      "execution_count": 110,
      "outputs": [
        {
          "output_type": "stream",
          "name": "stdout",
          "text": [
            "Enter Number: 67\n",
            "This is prime\n"
          ]
        }
      ]
    },
    {
      "cell_type": "code",
      "source": [
        "e=[1,2,3,4,5,6,7,8,9,10,2,7,7,7,7,7]\n",
        "e"
      ],
      "metadata": {
        "id": "rDkn7wCQDUvh",
        "colab": {
          "base_uri": "https://localhost:8080/"
        },
        "outputId": "a85d485e-36ef-4340-9d94-f70abecd2b34"
      },
      "execution_count": 111,
      "outputs": [
        {
          "output_type": "execute_result",
          "data": {
            "text/plain": [
              "[1, 2, 3, 4, 5, 6, 7, 8, 9, 10, 2, 7, 7, 7, 7, 7]"
            ]
          },
          "metadata": {},
          "execution_count": 111
        }
      ]
    },
    {
      "cell_type": "code",
      "source": [
        "import statistics\n",
        "print(statistics.mean(e))\n",
        "print(statistics.median(e))\n",
        "print(statistics.mode(e))"
      ],
      "metadata": {
        "id": "rdxM-iAlDUse",
        "colab": {
          "base_uri": "https://localhost:8080/"
        },
        "outputId": "05aca6a1-c2d5-4d00-8116-eaa4c0b1a6e4"
      },
      "execution_count": 112,
      "outputs": [
        {
          "output_type": "stream",
          "name": "stdout",
          "text": [
            "5.75\n",
            "7.0\n",
            "7\n"
          ]
        }
      ]
    },
    {
      "cell_type": "code",
      "source": [
        "import numpy as np\n",
        "import statistics\n",
        "g=np.array([1,2,3,4,5,6,7,8,9,10])"
      ],
      "metadata": {
        "id": "rHJlLVWpDUT8"
      },
      "execution_count": 113,
      "outputs": []
    },
    {
      "cell_type": "code",
      "source": [
        "print(np.mean(e))\n",
        "print(np.median(e))\n",
        "print(np.var(e))\n",
        "print(statistics.mode(e))\n",
        "print(np.std(e))"
      ],
      "metadata": {
        "id": "oL2L5pPVDUQ7",
        "colab": {
          "base_uri": "https://localhost:8080/"
        },
        "outputId": "541bdb01-7eed-4435-e11e-59a141ae649b"
      },
      "execution_count": 114,
      "outputs": [
        {
          "output_type": "stream",
          "name": "stdout",
          "text": [
            "5.75\n",
            "7.0\n",
            "6.5625\n",
            "7\n",
            "2.5617376914898995\n"
          ]
        }
      ]
    },
    {
      "cell_type": "code",
      "source": [
        "j=np.random.rand(2,8,4)\n",
        "j"
      ],
      "metadata": {
        "id": "OdA-vkGcDXNI",
        "colab": {
          "base_uri": "https://localhost:8080/"
        },
        "outputId": "630ee31b-c925-4f44-aadf-18a9031ac171"
      },
      "execution_count": 115,
      "outputs": [
        {
          "output_type": "execute_result",
          "data": {
            "text/plain": [
              "array([[[0.95379005, 0.95342519, 0.25570088, 0.09662873],\n",
              "        [0.71081   , 0.99946795, 0.09244383, 0.95140756],\n",
              "        [0.66493733, 0.66366628, 0.34592516, 0.37720583],\n",
              "        [0.60641934, 0.87652838, 0.5215567 , 0.9685692 ],\n",
              "        [0.2729019 , 0.32574837, 0.15605173, 0.52077815],\n",
              "        [0.90614971, 0.51894304, 0.59557873, 0.19284033],\n",
              "        [0.36858429, 0.25020123, 0.7940314 , 0.0528041 ],\n",
              "        [0.97185457, 0.97093393, 0.93971382, 0.22780471]],\n",
              "\n",
              "       [[0.29789753, 0.45338258, 0.55161294, 0.67412221],\n",
              "        [0.11788673, 0.62890362, 0.74825497, 0.88550034],\n",
              "        [0.28062779, 0.5602853 , 0.25291076, 0.02958304],\n",
              "        [0.9766329 , 0.96760874, 0.80380999, 0.76444844],\n",
              "        [0.46159141, 0.20005394, 0.05772841, 0.60997277],\n",
              "        [0.87691909, 0.64419635, 0.15006578, 0.01269318],\n",
              "        [0.55284757, 0.77096561, 0.15217976, 0.39124341],\n",
              "        [0.95415164, 0.95570903, 0.68799069, 0.07910212]]])"
            ]
          },
          "metadata": {},
          "execution_count": 115
        }
      ]
    },
    {
      "cell_type": "code",
      "source": [
        "print(np.mean(e))\n",
        "print(np.median(e))\n",
        "print(np.var(e))\n",
        "print(statistics.mode(e))\n",
        "print(np.std(e))"
      ],
      "metadata": {
        "id": "DwURACUyDXJq",
        "colab": {
          "base_uri": "https://localhost:8080/"
        },
        "outputId": "f1d329a7-ec81-4f8f-8f00-2ff561f39cfa"
      },
      "execution_count": 116,
      "outputs": [
        {
          "output_type": "stream",
          "name": "stdout",
          "text": [
            "5.75\n",
            "7.0\n",
            "6.5625\n",
            "7\n",
            "2.5617376914898995\n"
          ]
        }
      ]
    },
    {
      "cell_type": "code",
      "source": [
        "np.random.chisquare(2,4)"
      ],
      "metadata": {
        "id": "pqMXFWi-DWkY",
        "colab": {
          "base_uri": "https://localhost:8080/"
        },
        "outputId": "03f99c7c-e4f1-4552-82f7-cf23da385db6"
      },
      "execution_count": 122,
      "outputs": [
        {
          "output_type": "execute_result",
          "data": {
            "text/plain": [
              "array([1.05656701, 4.44243925, 0.48197433, 3.3994215 ])"
            ]
          },
          "metadata": {},
          "execution_count": 122
        }
      ]
    },
    {
      "cell_type": "code",
      "source": [
        "import pandas as pd\n",
        "test_list = ['a','b','c','d']\n",
        "df_test = pd.DataFrame(test_list,columns=['My_letters'])\n",
        "df_test"
      ],
      "metadata": {
        "id": "3dopyZDaDWic",
        "colab": {
          "base_uri": "https://localhost:8080/",
          "height": 174
        },
        "outputId": "2cdc25fe-57b1-4466-f5e5-9590cac50d97"
      },
      "execution_count": 123,
      "outputs": [
        {
          "output_type": "execute_result",
          "data": {
            "text/plain": [
              "  My_letters\n",
              "0          a\n",
              "1          b\n",
              "2          c\n",
              "3          d"
            ],
            "text/html": [
              "\n",
              "  <div id=\"df-699d60bf-eef6-4aa2-87c2-8bfaec0eb129\">\n",
              "    <div class=\"colab-df-container\">\n",
              "      <div>\n",
              "<style scoped>\n",
              "    .dataframe tbody tr th:only-of-type {\n",
              "        vertical-align: middle;\n",
              "    }\n",
              "\n",
              "    .dataframe tbody tr th {\n",
              "        vertical-align: top;\n",
              "    }\n",
              "\n",
              "    .dataframe thead th {\n",
              "        text-align: right;\n",
              "    }\n",
              "</style>\n",
              "<table border=\"1\" class=\"dataframe\">\n",
              "  <thead>\n",
              "    <tr style=\"text-align: right;\">\n",
              "      <th></th>\n",
              "      <th>My_letters</th>\n",
              "    </tr>\n",
              "  </thead>\n",
              "  <tbody>\n",
              "    <tr>\n",
              "      <th>0</th>\n",
              "      <td>a</td>\n",
              "    </tr>\n",
              "    <tr>\n",
              "      <th>1</th>\n",
              "      <td>b</td>\n",
              "    </tr>\n",
              "    <tr>\n",
              "      <th>2</th>\n",
              "      <td>c</td>\n",
              "    </tr>\n",
              "    <tr>\n",
              "      <th>3</th>\n",
              "      <td>d</td>\n",
              "    </tr>\n",
              "  </tbody>\n",
              "</table>\n",
              "</div>\n",
              "      <button class=\"colab-df-convert\" onclick=\"convertToInteractive('df-699d60bf-eef6-4aa2-87c2-8bfaec0eb129')\"\n",
              "              title=\"Convert this dataframe to an interactive table.\"\n",
              "              style=\"display:none;\">\n",
              "        \n",
              "  <svg xmlns=\"http://www.w3.org/2000/svg\" height=\"24px\"viewBox=\"0 0 24 24\"\n",
              "       width=\"24px\">\n",
              "    <path d=\"M0 0h24v24H0V0z\" fill=\"none\"/>\n",
              "    <path d=\"M18.56 5.44l.94 2.06.94-2.06 2.06-.94-2.06-.94-.94-2.06-.94 2.06-2.06.94zm-11 1L8.5 8.5l.94-2.06 2.06-.94-2.06-.94L8.5 2.5l-.94 2.06-2.06.94zm10 10l.94 2.06.94-2.06 2.06-.94-2.06-.94-.94-2.06-.94 2.06-2.06.94z\"/><path d=\"M17.41 7.96l-1.37-1.37c-.4-.4-.92-.59-1.43-.59-.52 0-1.04.2-1.43.59L10.3 9.45l-7.72 7.72c-.78.78-.78 2.05 0 2.83L4 21.41c.39.39.9.59 1.41.59.51 0 1.02-.2 1.41-.59l7.78-7.78 2.81-2.81c.8-.78.8-2.07 0-2.86zM5.41 20L4 18.59l7.72-7.72 1.47 1.35L5.41 20z\"/>\n",
              "  </svg>\n",
              "      </button>\n",
              "      \n",
              "  <style>\n",
              "    .colab-df-container {\n",
              "      display:flex;\n",
              "      flex-wrap:wrap;\n",
              "      gap: 12px;\n",
              "    }\n",
              "\n",
              "    .colab-df-convert {\n",
              "      background-color: #E8F0FE;\n",
              "      border: none;\n",
              "      border-radius: 50%;\n",
              "      cursor: pointer;\n",
              "      display: none;\n",
              "      fill: #1967D2;\n",
              "      height: 32px;\n",
              "      padding: 0 0 0 0;\n",
              "      width: 32px;\n",
              "    }\n",
              "\n",
              "    .colab-df-convert:hover {\n",
              "      background-color: #E2EBFA;\n",
              "      box-shadow: 0px 1px 2px rgba(60, 64, 67, 0.3), 0px 1px 3px 1px rgba(60, 64, 67, 0.15);\n",
              "      fill: #174EA6;\n",
              "    }\n",
              "\n",
              "    [theme=dark] .colab-df-convert {\n",
              "      background-color: #3B4455;\n",
              "      fill: #D2E3FC;\n",
              "    }\n",
              "\n",
              "    [theme=dark] .colab-df-convert:hover {\n",
              "      background-color: #434B5C;\n",
              "      box-shadow: 0px 1px 3px 1px rgba(0, 0, 0, 0.15);\n",
              "      filter: drop-shadow(0px 1px 2px rgba(0, 0, 0, 0.3));\n",
              "      fill: #FFFFFF;\n",
              "    }\n",
              "  </style>\n",
              "\n",
              "      <script>\n",
              "        const buttonEl =\n",
              "          document.querySelector('#df-699d60bf-eef6-4aa2-87c2-8bfaec0eb129 button.colab-df-convert');\n",
              "        buttonEl.style.display =\n",
              "          google.colab.kernel.accessAllowed ? 'block' : 'none';\n",
              "\n",
              "        async function convertToInteractive(key) {\n",
              "          const element = document.querySelector('#df-699d60bf-eef6-4aa2-87c2-8bfaec0eb129');\n",
              "          const dataTable =\n",
              "            await google.colab.kernel.invokeFunction('convertToInteractive',\n",
              "                                                     [key], {});\n",
              "          if (!dataTable) return;\n",
              "\n",
              "          const docLinkHtml = 'Like what you see? Visit the ' +\n",
              "            '<a target=\"_blank\" href=https://colab.research.google.com/notebooks/data_table.ipynb>data table notebook</a>'\n",
              "            + ' to learn more about interactive tables.';\n",
              "          element.innerHTML = '';\n",
              "          dataTable['output_type'] = 'display_data';\n",
              "          await google.colab.output.renderOutput(dataTable, element);\n",
              "          const docLink = document.createElement('div');\n",
              "          docLink.innerHTML = docLinkHtml;\n",
              "          element.appendChild(docLink);\n",
              "        }\n",
              "      </script>\n",
              "    </div>\n",
              "  </div>\n",
              "  "
            ]
          },
          "metadata": {},
          "execution_count": 123
        }
      ]
    },
    {
      "cell_type": "code",
      "source": [
        "import numpy as np\n",
        "for i in range(1,51):\n",
        "  print(i,end=\" \")"
      ],
      "metadata": {
        "id": "OfjpNiX0DWgO",
        "colab": {
          "base_uri": "https://localhost:8080/"
        },
        "outputId": "001e0f2e-0af9-434b-e079-81f49feeff51"
      },
      "execution_count": 124,
      "outputs": [
        {
          "output_type": "stream",
          "name": "stdout",
          "text": [
            "1 2 3 4 5 6 7 8 9 10 11 12 13 14 15 16 17 18 19 20 21 22 23 24 25 26 27 28 29 30 31 32 33 34 35 36 37 38 39 40 41 42 43 44 45 46 47 48 49 50 "
          ]
        }
      ]
    },
    {
      "cell_type": "code",
      "source": [
        "np.mean(i)"
      ],
      "metadata": {
        "id": "rhyyD9DIDWaI",
        "colab": {
          "base_uri": "https://localhost:8080/"
        },
        "outputId": "ba17ac17-171d-4bd2-d5db-402edc84f98e"
      },
      "execution_count": 125,
      "outputs": [
        {
          "output_type": "execute_result",
          "data": {
            "text/plain": [
              "50.0"
            ]
          },
          "metadata": {},
          "execution_count": 125
        }
      ]
    },
    {
      "cell_type": "code",
      "source": [
        "np.zeros(5)"
      ],
      "metadata": {
        "colab": {
          "base_uri": "https://localhost:8080/"
        },
        "id": "Q9hcDQ-KT6A-",
        "outputId": "b6f691bb-2cef-4878-a54b-87e513e043ad"
      },
      "execution_count": 126,
      "outputs": [
        {
          "output_type": "execute_result",
          "data": {
            "text/plain": [
              "array([0., 0., 0., 0., 0.])"
            ]
          },
          "metadata": {},
          "execution_count": 126
        }
      ]
    },
    {
      "cell_type": "code",
      "source": [
        "np.ones(5)"
      ],
      "metadata": {
        "colab": {
          "base_uri": "https://localhost:8080/"
        },
        "id": "Sw7TB4wVUE5t",
        "outputId": "abfcb434-fab8-4be2-f3da-b2e26fbf2e4d"
      },
      "execution_count": 127,
      "outputs": [
        {
          "output_type": "execute_result",
          "data": {
            "text/plain": [
              "array([1., 1., 1., 1., 1.])"
            ]
          },
          "metadata": {},
          "execution_count": 127
        }
      ]
    },
    {
      "cell_type": "code",
      "source": [
        "np.ones((5,5))"
      ],
      "metadata": {
        "colab": {
          "base_uri": "https://localhost:8080/"
        },
        "id": "QCLe5nc6UrRt",
        "outputId": "71d66dbb-aafb-4a53-faa5-999349ff8fd9"
      },
      "execution_count": 128,
      "outputs": [
        {
          "output_type": "execute_result",
          "data": {
            "text/plain": [
              "array([[1., 1., 1., 1., 1.],\n",
              "       [1., 1., 1., 1., 1.],\n",
              "       [1., 1., 1., 1., 1.],\n",
              "       [1., 1., 1., 1., 1.],\n",
              "       [1., 1., 1., 1., 1.]])"
            ]
          },
          "metadata": {},
          "execution_count": 128
        }
      ]
    },
    {
      "cell_type": "code",
      "source": [
        "np.identity(6)"
      ],
      "metadata": {
        "colab": {
          "base_uri": "https://localhost:8080/"
        },
        "id": "tzkJiu2_ULIy",
        "outputId": "096f8adc-b29c-4b17-a1bc-482fe4f3327e"
      },
      "execution_count": 129,
      "outputs": [
        {
          "output_type": "execute_result",
          "data": {
            "text/plain": [
              "array([[1., 0., 0., 0., 0., 0.],\n",
              "       [0., 1., 0., 0., 0., 0.],\n",
              "       [0., 0., 1., 0., 0., 0.],\n",
              "       [0., 0., 0., 1., 0., 0.],\n",
              "       [0., 0., 0., 0., 1., 0.],\n",
              "       [0., 0., 0., 0., 0., 1.]])"
            ]
          },
          "metadata": {},
          "execution_count": 129
        }
      ]
    },
    {
      "cell_type": "code",
      "source": [
        "np.random.rand(5,2)"
      ],
      "metadata": {
        "colab": {
          "base_uri": "https://localhost:8080/"
        },
        "id": "FfyHPvIPU1Bd",
        "outputId": "b345477e-2d75-418b-802c-ca7aee3b8af8"
      },
      "execution_count": 130,
      "outputs": [
        {
          "output_type": "execute_result",
          "data": {
            "text/plain": [
              "array([[0.78760343, 0.86723627],\n",
              "       [0.65492214, 0.09301534],\n",
              "       [0.40326797, 0.41229068],\n",
              "       [0.24810292, 0.1952711 ],\n",
              "       [0.92893473, 0.43667302]])"
            ]
          },
          "metadata": {},
          "execution_count": 130
        }
      ]
    },
    {
      "cell_type": "code",
      "source": [
        "n=[]\n",
        "for i in range(1,11):\n",
        "  n.append(i)\n",
        "n"
      ],
      "metadata": {
        "colab": {
          "base_uri": "https://localhost:8080/"
        },
        "id": "dhh-LE7wVKPP",
        "outputId": "63c1e49f-e339-4ac3-a0f2-cab991e6519f"
      },
      "execution_count": 131,
      "outputs": [
        {
          "output_type": "execute_result",
          "data": {
            "text/plain": [
              "[1, 2, 3, 4, 5, 6, 7, 8, 9, 10]"
            ]
          },
          "metadata": {},
          "execution_count": 131
        }
      ]
    },
    {
      "cell_type": "code",
      "source": [
        "from scipy import stats\n",
        "print(stats.mode(i))"
      ],
      "metadata": {
        "id": "8cyfr1RWDWXg",
        "colab": {
          "base_uri": "https://localhost:8080/"
        },
        "outputId": "f3718eb3-0691-4cc2-bfba-5f8eb9ffd8a7"
      },
      "execution_count": 132,
      "outputs": [
        {
          "output_type": "stream",
          "name": "stdout",
          "text": [
            "ModeResult(mode=array([10]), count=array([1]))\n"
          ]
        }
      ]
    },
    {
      "cell_type": "code",
      "source": [
        "a=[1,2,3,4,5,6,7,8,9]\n",
        "b=[1,2,3,4,4,5,66]"
      ],
      "metadata": {
        "id": "DORBIhZUDWUB"
      },
      "execution_count": 133,
      "outputs": []
    },
    {
      "cell_type": "code",
      "source": [
        "a.append(b)\n",
        "a"
      ],
      "metadata": {
        "id": "Bqt4dDNSDWRz",
        "colab": {
          "base_uri": "https://localhost:8080/"
        },
        "outputId": "2472a2d8-c991-4bd2-8e34-457415018ec1"
      },
      "execution_count": 134,
      "outputs": [
        {
          "output_type": "execute_result",
          "data": {
            "text/plain": [
              "[1, 2, 3, 4, 5, 6, 7, 8, 9, [1, 2, 3, 4, 4, 5, 66]]"
            ]
          },
          "metadata": {},
          "execution_count": 134
        }
      ]
    },
    {
      "cell_type": "code",
      "source": [
        "a.extend(b)\n",
        "a"
      ],
      "metadata": {
        "id": "6lsyNAE9DUNX",
        "colab": {
          "base_uri": "https://localhost:8080/"
        },
        "outputId": "b530ab3c-5f2d-45b7-f3cc-b55711e6e7a4"
      },
      "execution_count": 135,
      "outputs": [
        {
          "output_type": "execute_result",
          "data": {
            "text/plain": [
              "[1, 2, 3, 4, 5, 6, 7, 8, 9, [1, 2, 3, 4, 4, 5, 66], 1, 2, 3, 4, 4, 5, 66]"
            ]
          },
          "metadata": {},
          "execution_count": 135
        }
      ]
    },
    {
      "cell_type": "code",
      "source": [
        "a+b"
      ],
      "metadata": {
        "id": "lUP8z2nQDULX",
        "colab": {
          "base_uri": "https://localhost:8080/"
        },
        "outputId": "904ec0c3-19d5-4702-d8ef-9443221a59f3"
      },
      "execution_count": 136,
      "outputs": [
        {
          "output_type": "execute_result",
          "data": {
            "text/plain": [
              "[1,\n",
              " 2,\n",
              " 3,\n",
              " 4,\n",
              " 5,\n",
              " 6,\n",
              " 7,\n",
              " 8,\n",
              " 9,\n",
              " [1, 2, 3, 4, 4, 5, 66],\n",
              " 1,\n",
              " 2,\n",
              " 3,\n",
              " 4,\n",
              " 4,\n",
              " 5,\n",
              " 66,\n",
              " 1,\n",
              " 2,\n",
              " 3,\n",
              " 4,\n",
              " 4,\n",
              " 5,\n",
              " 66]"
            ]
          },
          "metadata": {},
          "execution_count": 136
        }
      ]
    },
    {
      "cell_type": "code",
      "source": [
        "for i in range(1,101):\n",
        "  if i == 3:\n",
        "    print(i,end=\" \")\n",
        "  else: \n",
        "    print(i,end=\" \")"
      ],
      "metadata": {
        "id": "2hI1jWZHDT-s",
        "colab": {
          "base_uri": "https://localhost:8080/"
        },
        "outputId": "e302f95d-98f7-4c0f-85ab-c975925942df"
      },
      "execution_count": 140,
      "outputs": [
        {
          "output_type": "stream",
          "name": "stdout",
          "text": [
            "1 2 3 4 5 6 7 8 9 10 11 12 13 14 15 16 17 18 19 20 21 22 23 24 25 26 27 28 29 30 31 32 33 34 35 36 37 38 39 40 41 42 43 44 45 46 47 48 49 50 51 52 53 54 55 56 57 58 59 60 61 62 63 64 65 66 67 68 69 70 71 72 73 74 75 76 77 78 79 80 81 82 83 84 85 86 87 88 89 90 91 92 93 94 95 96 97 98 99 100 "
          ]
        }
      ]
    },
    {
      "cell_type": "code",
      "source": [
        "print(*range(1,51))"
      ],
      "metadata": {
        "colab": {
          "base_uri": "https://localhost:8080/"
        },
        "id": "sEs_AKnE9AhB",
        "outputId": "911ed32f-5e3d-4823-cf8e-efe77984765f"
      },
      "execution_count": 141,
      "outputs": [
        {
          "output_type": "stream",
          "name": "stdout",
          "text": [
            "1 2 3 4 5 6 7 8 9 10 11 12 13 14 15 16 17 18 19 20 21 22 23 24 25 26 27 28 29 30 31 32 33 34 35 36 37 38 39 40 41 42 43 44 45 46 47 48 49 50\n"
          ]
        }
      ]
    },
    {
      "cell_type": "code",
      "source": [
        "a=print(*range(1,3))"
      ],
      "metadata": {
        "colab": {
          "base_uri": "https://localhost:8080/"
        },
        "id": "vsLHoWfM9AV1",
        "outputId": "be3b7620-9061-4568-9cc6-3281454dd2d0"
      },
      "execution_count": 142,
      "outputs": [
        {
          "output_type": "stream",
          "name": "stdout",
          "text": [
            "1 2\n"
          ]
        }
      ]
    },
    {
      "cell_type": "code",
      "source": [
        "b=print(*range(4,101))"
      ],
      "metadata": {
        "id": "lruT9MqTDT72",
        "colab": {
          "base_uri": "https://localhost:8080/"
        },
        "outputId": "7f91c9cf-eed1-451a-be6e-fc39507ec26f"
      },
      "execution_count": 143,
      "outputs": [
        {
          "output_type": "stream",
          "name": "stdout",
          "text": [
            "4 5 6 7 8 9 10 11 12 13 14 15 16 17 18 19 20 21 22 23 24 25 26 27 28 29 30 31 32 33 34 35 36 37 38 39 40 41 42 43 44 45 46 47 48 49 50 51 52 53 54 55 56 57 58 59 60 61 62 63 64 65 66 67 68 69 70 71 72 73 74 75 76 77 78 79 80 81 82 83 84 85 86 87 88 89 90 91 92 93 94 95 96 97 98 99 100\n"
          ]
        }
      ]
    },
    {
      "cell_type": "code",
      "source": [
        "for i in range(1,11):\n",
        "    if i!=3:\n",
        "      print(i,end=\" \")"
      ],
      "metadata": {
        "id": "iU0O9xDxDT4a",
        "colab": {
          "base_uri": "https://localhost:8080/"
        },
        "outputId": "2ae7ae7d-39e2-4963-9563-e6ea0f83dc50"
      },
      "execution_count": 144,
      "outputs": [
        {
          "output_type": "stream",
          "name": "stdout",
          "text": [
            "1 2 4 5 6 7 8 9 10 "
          ]
        }
      ]
    },
    {
      "cell_type": "code",
      "source": [
        "l=print(*range(1,11))"
      ],
      "metadata": {
        "id": "HG4ycmQCDT2k",
        "colab": {
          "base_uri": "https://localhost:8080/"
        },
        "outputId": "f245c576-b65a-47cc-ea63-c65213cb8b98"
      },
      "execution_count": 145,
      "outputs": [
        {
          "output_type": "stream",
          "name": "stdout",
          "text": [
            "1 2 3 4 5 6 7 8 9 10\n"
          ]
        }
      ]
    },
    {
      "cell_type": "code",
      "source": [
        "l=[1,2 ,3, 4, 5 ,6 ,7 ,8 ,9 ,10]"
      ],
      "metadata": {
        "id": "huDUtNvrDTlF"
      },
      "execution_count": 146,
      "outputs": []
    },
    {
      "cell_type": "code",
      "source": [
        "l[10::]"
      ],
      "metadata": {
        "id": "04-IgKKpDTgG",
        "colab": {
          "base_uri": "https://localhost:8080/"
        },
        "outputId": "4dae1fbb-d6e8-46a6-98a1-20892c953339"
      },
      "execution_count": 147,
      "outputs": [
        {
          "output_type": "execute_result",
          "data": {
            "text/plain": [
              "[]"
            ]
          },
          "metadata": {},
          "execution_count": 147
        }
      ]
    },
    {
      "cell_type": "code",
      "source": [
        "n=int(input('enter'))\n",
        "res=1\n",
        "for i in range(1,n+1):\n",
        "  \n",
        "  res=res*i\n",
        "print(res)\n",
        "  \n",
        "  "
      ],
      "metadata": {
        "id": "oR2hy1xsDTdG",
        "colab": {
          "base_uri": "https://localhost:8080/"
        },
        "outputId": "9f69e248-f2cb-4618-cf0c-67e2cbfce126"
      },
      "execution_count": 150,
      "outputs": [
        {
          "output_type": "stream",
          "name": "stdout",
          "text": [
            "enter10\n",
            "3628800\n"
          ]
        }
      ]
    },
    {
      "cell_type": "code",
      "source": [
        "a=[1,2,3,4,5,6]\n",
        "b=[x**2 for x in a]\n",
        "b"
      ],
      "metadata": {
        "id": "fJzH4w9IDTX3",
        "colab": {
          "base_uri": "https://localhost:8080/"
        },
        "outputId": "39a4afbc-8eea-49b1-d77e-66a5a0a7785a"
      },
      "execution_count": 151,
      "outputs": [
        {
          "output_type": "execute_result",
          "data": {
            "text/plain": [
              "[1, 4, 9, 16, 25, 36]"
            ]
          },
          "metadata": {},
          "execution_count": 151
        }
      ]
    },
    {
      "cell_type": "code",
      "source": [
        "type(a)"
      ],
      "metadata": {
        "colab": {
          "base_uri": "https://localhost:8080/"
        },
        "id": "9M_YC2dQfEpn",
        "outputId": "a05b9cb5-024c-43e8-f541-83d2b88a5474"
      },
      "execution_count": 156,
      "outputs": [
        {
          "output_type": "execute_result",
          "data": {
            "text/plain": [
              "tuple"
            ]
          },
          "metadata": {},
          "execution_count": 156
        }
      ]
    },
    {
      "cell_type": "code",
      "source": [
        "n=input(\"Enter the string: \")\n",
        "m=n[::-1]\n",
        "print(m)"
      ],
      "metadata": {
        "id": "Hh2EWol8fPHC",
        "colab": {
          "base_uri": "https://localhost:8080/"
        },
        "outputId": "d96f9b86-90ac-47f0-db5b-faf04f93f3d2"
      },
      "execution_count": 157,
      "outputs": [
        {
          "output_type": "stream",
          "name": "stdout",
          "text": [
            "Enter the string: Raju\n",
            "ujaR\n"
          ]
        }
      ]
    },
    {
      "cell_type": "code",
      "source": [
        "def r():\n",
        "  for i in range(1,11):\n",
        "    return i"
      ],
      "metadata": {
        "id": "y0LbQOQuNI04"
      },
      "execution_count": 158,
      "outputs": []
    },
    {
      "cell_type": "code",
      "source": [
        "r()"
      ],
      "metadata": {
        "colab": {
          "base_uri": "https://localhost:8080/"
        },
        "id": "PaTHjTtvNIj-",
        "outputId": "93dbc483-bc39-4068-c9ce-f71aca317e1c"
      },
      "execution_count": 159,
      "outputs": [
        {
          "output_type": "execute_result",
          "data": {
            "text/plain": [
              "1"
            ]
          },
          "metadata": {},
          "execution_count": 159
        }
      ]
    },
    {
      "cell_type": "code",
      "source": [],
      "metadata": {
        "id": "83Ut6SHxITh9"
      },
      "execution_count": null,
      "outputs": []
    }
  ]
}